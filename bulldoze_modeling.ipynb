{
 "cells": [
  {
   "cell_type": "code",
   "execution_count": 1,
   "metadata": {},
   "outputs": [],
   "source": [
    "from sklearn.ensemble import RandomForestRegressor, RandomForestClassifier\n",
    "from IPython.display import display\n",
    "import IPython\n",
    "\n",
    "from sklearn import metrics\n",
    "import os\n"
   ]
  },
  {
   "cell_type": "code",
   "execution_count": 2,
   "metadata": {},
   "outputs": [],
   "source": [
    "PATH = \"Bulldoze Data/\"\n",
    "df_raw_d = pd.read_csv(f'{PATH}Train.csv', parse_dates=[\"saledate\"], low_memory=False)\n",
    "df_raw_d.SalePrice = np.log(df_raw_d.SalePrice)"
   ]
  },
  {
   "cell_type": "markdown",
   "metadata": {},
   "source": [
    "# Data Processing"
   ]
  },
  {
   "cell_type": "code",
   "execution_count": 3,
   "metadata": {},
   "outputs": [
    {
     "data": {
      "text/plain": [
       "Backhoe_Mounting            0.803872\n",
       "Blade_Extension             0.937129\n",
       "Blade_Type                  0.800977\n",
       "Blade_Width                 0.937129\n",
       "Coupler                     0.466620\n",
       "Coupler_System              0.891660\n",
       "Differential_Type           0.826959\n",
       "Drive_System                0.739829\n",
       "Enclosure                   0.000810\n",
       "Enclosure_Type              0.937129\n",
       "Engine_Horsepower           0.937129\n",
       "Forks                       0.521154\n",
       "Grouser_Tracks              0.891899\n",
       "Grouser_Type                0.752813\n",
       "Hydraulics                  0.200823\n",
       "Hydraulics_Flow             0.891899\n",
       "MachineHoursCurrentMeter    0.644089\n",
       "MachineID                   0.000000\n",
       "ModelID                     0.000000\n",
       "Pad_Type                    0.802720\n",
       "Pattern_Changer             0.752651\n",
       "ProductGroup                0.000000\n",
       "ProductGroupDesc            0.000000\n",
       "ProductSize                 0.525460\n",
       "Pushblock                   0.937129\n",
       "Ride_Control                0.629527\n",
       "Ripper                      0.740388\n",
       "SalePrice                   0.000000\n",
       "SalesID                     0.000000\n",
       "Scarifier                   0.937102\n",
       "Steering_Controls           0.827064\n",
       "Stick                       0.802720\n",
       "Stick_Length                0.752651\n",
       "Thumb                       0.752476\n",
       "Tip_Control                 0.937129\n",
       "Tire_Size                   0.763869\n",
       "Track_Type                  0.752813\n",
       "Transmission                0.543210\n",
       "Travel_Controls             0.800975\n",
       "Turbocharged                0.802720\n",
       "Undercarriage_Pad_Width     0.751020\n",
       "UsageBand                   0.826391\n",
       "YearMade                    0.000000\n",
       "auctioneerID                0.050199\n",
       "datasource                  0.000000\n",
       "fiBaseModel                 0.000000\n",
       "fiModelDesc                 0.000000\n",
       "fiModelDescriptor           0.820707\n",
       "fiModelSeries               0.858129\n",
       "fiProductClassDesc          0.000000\n",
       "fiSecondaryDesc             0.342016\n",
       "saledate                    0.000000\n",
       "state                       0.000000\n",
       "dtype: float64"
      ]
     },
     "execution_count": 3,
     "metadata": {},
     "output_type": "execute_result"
    }
   ],
   "source": [
    "# Cleaning Data\n",
    "import pandas.api.types as ptypes\n",
    "\n",
    "df_raw = df_raw_d.copy()\n",
    "\n",
    "for n, c in df_raw.items():\n",
    "    if ptypes.is_string_dtype(c): df_raw[n] = c.astype('category').cat.as_ordered()\n",
    "\n",
    "df_raw.UsageBand.cat.set_categories(['High', 'Medium', 'Low'], ordered = True, inplace=True)\n",
    "df_raw.isnull().sum().sort_index()/len(df_raw)"
   ]
  },
  {
   "cell_type": "code",
   "execution_count": 4,
   "metadata": {},
   "outputs": [],
   "source": [
    "# Transforming datetime column\n",
    "prefix = 'sale'\n",
    "attr = ['Year', 'Month', 'Week', 'Day', 'Dayofweek', 'Dayofyear', 'Is_month_end', 'Is_month_start', \n",
    "            'Is_quarter_end', 'Is_quarter_start', 'Is_year_end', 'Is_year_start']\n",
    "df_raw.saledate = pd.to_datetime(df_raw.saledate, infer_datetime_format=True)\n",
    "#df_raw.sort_values(by='saledate', inplace=True)\n",
    "#df_raw.reset_index(inplace=True)\n",
    "for i in attr:\n",
    "    df_raw[prefix+i] = getattr(df_raw.saledate.dt, i.lower())\n",
    "df_raw[prefix+'Elapsed'] = pd.to_datetime(df_raw.saledate, infer_datetime_format=True).astype(np.int64)\n",
    "df_raw.drop('saledate', axis = 1, inplace = True)"
   ]
  },
  {
   "cell_type": "code",
   "execution_count": 5,
   "metadata": {},
   "outputs": [],
   "source": [
    "# to save fast\n",
    "os.makedirs('tmp', exist_ok = True)\n",
    "df_raw.to_feather('tmp/raw')"
   ]
  },
  {
   "cell_type": "code",
   "execution_count": 6,
   "metadata": {},
   "outputs": [],
   "source": [
    "# to read fast\n",
    "df_raw = pd.read_feather('tmp/raw')"
   ]
  },
  {
   "cell_type": "code",
   "execution_count": 7,
   "metadata": {},
   "outputs": [
    {
     "data": {
      "text/plain": [
       "Backhoe_Mounting            0.803872\n",
       "Blade_Extension             0.937129\n",
       "Blade_Type                  0.800977\n",
       "Blade_Width                 0.937129\n",
       "Coupler                     0.466620\n",
       "Coupler_System              0.891660\n",
       "Differential_Type           0.826959\n",
       "Drive_System                0.739829\n",
       "Enclosure                   0.000810\n",
       "Enclosure_Type              0.937129\n",
       "Engine_Horsepower           0.937129\n",
       "Forks                       0.521154\n",
       "Grouser_Tracks              0.891899\n",
       "Grouser_Type                0.752813\n",
       "Hydraulics                  0.200823\n",
       "Hydraulics_Flow             0.891899\n",
       "MachineHoursCurrentMeter    0.644089\n",
       "MachineID                   0.000000\n",
       "ModelID                     0.000000\n",
       "Pad_Type                    0.802720\n",
       "Pattern_Changer             0.752651\n",
       "ProductGroup                0.000000\n",
       "ProductGroupDesc            0.000000\n",
       "ProductSize                 0.525460\n",
       "Pushblock                   0.937129\n",
       "Ride_Control                0.629527\n",
       "Ripper                      0.740388\n",
       "SalePrice                   0.000000\n",
       "SalesID                     0.000000\n",
       "Scarifier                   0.937102\n",
       "Steering_Controls           0.827064\n",
       "Stick                       0.802720\n",
       "Stick_Length                0.752651\n",
       "Thumb                       0.752476\n",
       "Tip_Control                 0.937129\n",
       "Tire_Size                   0.763869\n",
       "Track_Type                  0.752813\n",
       "Transmission                0.543210\n",
       "Travel_Controls             0.800975\n",
       "Turbocharged                0.802720\n",
       "Undercarriage_Pad_Width     0.751020\n",
       "UsageBand                   0.826391\n",
       "YearMade                    0.000000\n",
       "auctioneerID                0.050199\n",
       "datasource                  0.000000\n",
       "fiBaseModel                 0.000000\n",
       "fiModelDesc                 0.000000\n",
       "fiModelDescriptor           0.820707\n",
       "fiModelSeries               0.858129\n",
       "fiProductClassDesc          0.000000\n",
       "fiSecondaryDesc             0.342016\n",
       "saleDay                     0.000000\n",
       "saleDayofweek               0.000000\n",
       "saleDayofyear               0.000000\n",
       "saleElapsed                 0.000000\n",
       "saleIs_month_end            0.000000\n",
       "saleIs_month_start          0.000000\n",
       "saleIs_quarter_end          0.000000\n",
       "saleIs_quarter_start        0.000000\n",
       "saleIs_year_end             0.000000\n",
       "saleIs_year_start           0.000000\n",
       "saleMonth                   0.000000\n",
       "saleWeek                    0.000000\n",
       "saleYear                    0.000000\n",
       "state                       0.000000\n",
       "dtype: float64"
      ]
     },
     "metadata": {},
     "output_type": "display_data"
    }
   ],
   "source": [
    "def display_all(df):\n",
    "    with pd.option_context(\"display.max_rows\", 1000, \"display.max_columns\", 1000): \n",
    "        display(df)\n",
    "display_all(df_raw.isnull().sum().sort_index()/len(df_raw))"
   ]
  },
  {
   "cell_type": "markdown",
   "metadata": {},
   "source": [
    "## Major processing \n",
    "Replace strings with numeric codes, handle missing values, and split the dependent variable into a separate variable"
   ]
  },
  {
   "cell_type": "code",
   "execution_count": 8,
   "metadata": {},
   "outputs": [],
   "source": [
    "df_bull = df_raw.copy()\n",
    "\n",
    "# Splitting dependent variable\n",
    "#y = df.SalePrice\n",
    "#df.drop('SalePrice', axis = 1, inplace = True)\n",
    "\n",
    "# Fixing continuous missing values and numeric codes (-1 to 0)\n",
    "import pandas.api.types as ptypes\n",
    "for n,c in df_bull.items():\n",
    "    if ptypes.is_numeric_dtype(c):\n",
    "        if pd.isnull(c).sum(): \n",
    "            df_bull[n+'_na'] = pd.isnull(c)\n",
    "            df_bull[n] = c.fillna(c.median())\n",
    "    if not ptypes.is_numeric_dtype(c):\n",
    "        df_bull[n] = c.cat.codes+1"
   ]
  },
  {
   "cell_type": "code",
   "execution_count": 9,
   "metadata": {},
   "outputs": [
    {
     "data": {
      "text/plain": [
       "RandomForestRegressor(bootstrap=True, ccp_alpha=0.0, criterion='mse',\n",
       "                      max_depth=None, max_features='auto', max_leaf_nodes=None,\n",
       "                      max_samples=None, min_impurity_decrease=0.0,\n",
       "                      min_impurity_split=None, min_samples_leaf=1,\n",
       "                      min_samples_split=2, min_weight_fraction_leaf=0.0,\n",
       "                      n_estimators=100, n_jobs=-1, oob_score=False,\n",
       "                      random_state=None, verbose=0, warm_start=False)"
      ]
     },
     "execution_count": 9,
     "metadata": {},
     "output_type": "execute_result"
    }
   ],
   "source": [
    "rf_full = RandomForestRegressor(n_jobs = -1)\n",
    "y = df_bull.SalePrice\n",
    "rf_full.fit(df_bull.drop('SalePrice', axis = 1), y)"
   ]
  },
  {
   "cell_type": "code",
   "execution_count": 10,
   "metadata": {},
   "outputs": [
    {
     "data": {
      "text/plain": [
       "(401125, 67)"
      ]
     },
     "execution_count": 10,
     "metadata": {},
     "output_type": "execute_result"
    }
   ],
   "source": [
    "df_bull.shape"
   ]
  },
  {
   "cell_type": "markdown",
   "metadata": {},
   "source": [
    "Even though the R^2 score is high, we may have an issue with overfitting. Additionally, it takes a long time to complete training for the above formula, so we are going to train on the subset of data for tuning."
   ]
  },
  {
   "cell_type": "markdown",
   "metadata": {},
   "source": [
    "# Validation Sets\n",
    "Validation sets ensure that the model generalizes well beyond training sets. We are trying to predict prices in the future, so we are going to write up a validation split function that trains on past data and validates on the latest from train.csv"
   ]
  },
  {
   "cell_type": "code",
   "execution_count": 11,
   "metadata": {},
   "outputs": [
    {
     "data": {
      "text/plain": [
       "((389125, 66), (389125,), (12000, 66), (12000,))"
      ]
     },
     "execution_count": 11,
     "metadata": {},
     "output_type": "execute_result"
    }
   ],
   "source": [
    "def split_vals(a, n): return a[:n].copy(), a[n:].copy()\n",
    "\n",
    "n_valid = 12000 # same as Kaggle's test set size\n",
    "n_trn = len(df_bull) - n_valid\n",
    "raw_train, raw_valid = split_vals(df_raw, n_trn)\n",
    "X_train_big, X_valid = split_vals(df_bull, n_trn)\n",
    "y_train_big, y_valid = X_train_big.SalePrice, X_valid.SalePrice\n",
    "\n",
    "y_train_big = np.array(y_train_big)\n",
    "y_valid = np.array(y_valid)\n",
    "\n",
    "X_train_big.drop('SalePrice', axis = 1, inplace = True)\n",
    "X_valid.drop('SalePrice', axis = 1, inplace = True)\n",
    "\n",
    "X_train_big.shape, y_train_big.shape, X_valid.shape, y_valid.shape"
   ]
  },
  {
   "cell_type": "code",
   "execution_count": 12,
   "metadata": {},
   "outputs": [],
   "source": [
    "import math\n",
    "def rmse(predicted, true_vals): return math.sqrt(((predicted-true_vals)**2).mean())\n",
    "\n",
    "def print_score(m):\n",
    "    res = [rmse(m.predict(X_train), y_train), rmse(m.predict(X_valid), y_valid),\n",
    "                m.score(X_train, y_train), m.score(X_valid, y_valid)]\n",
    "    if hasattr(m, 'oob_score_'): res.append(m.oob_score_)\n",
    "    print(res)"
   ]
  },
  {
   "cell_type": "code",
   "execution_count": 14,
   "metadata": {},
   "outputs": [
    {
     "data": {
      "text/plain": [
       "[0.07570272760467375,\n",
       " 0.23480627837342413,\n",
       " 0.9880227288559721,\n",
       " 0.901538287670831]"
      ]
     },
     "execution_count": 14,
     "metadata": {},
     "output_type": "execute_result"
    }
   ],
   "source": [
    "m = RandomForestRegressor(n_jobs = -1)\n",
    "m.fit(X_train_big, y_train_big)\n",
    "[rmse(m.predict(X_train_big), y_train_big), rmse(m.predict(X_valid), y_valid),\n",
    "                m.score(X_train_big, y_train_big), m.score(X_valid, y_valid)]"
   ]
  },
  {
   "cell_type": "markdown",
   "metadata": {},
   "source": [
    "This is really high! We get 90% accuracy for the validation set with all the default parameters of the RF model. Now, we would want to tune the model up to get it even more accurate, but first we need to speed things up."
   ]
  },
  {
   "cell_type": "markdown",
   "metadata": {},
   "source": [
    "## Speeding training up\n",
    "We are going to subset train dataframe to speed up training of complex models faster and find optimal parameters"
   ]
  },
  {
   "cell_type": "code",
   "execution_count": 118,
   "metadata": {},
   "outputs": [
    {
     "data": {
      "text/plain": [
       "(20000, 66)"
      ]
     },
     "execution_count": 118,
     "metadata": {},
     "output_type": "execute_result"
    }
   ],
   "source": [
    "def get_sample(df,n):\n",
    "    idxs = sorted(np.random.permutation(len(df))[:n])\n",
    "    return df.iloc[idxs].copy()\n",
    "\n",
    "df_trn = get_sample(df_bull, n=30000)\n",
    "y_trn = df_trn.SalePrice\n",
    "\n",
    "X_train, _ = split_vals(df_trn, 20000)\n",
    "y_train = X_train.SalePrice\n",
    "\n",
    "X_train.drop('SalePrice', axis = 1, inplace = True)\n",
    "X_train.shape"
   ]
  },
  {
   "cell_type": "code",
   "execution_count": 16,
   "metadata": {},
   "outputs": [
    {
     "name": "stdout",
     "output_type": "stream",
     "text": [
      "[0.0943134070526786, 0.338798612351943, 0.9808707301198105, 0.7950106870939397]\n"
     ]
    }
   ],
   "source": [
    "rf = RandomForestRegressor(n_jobs = -1)\n",
    "rf.fit(X_train, y_train)\n",
    "print_score(rf)"
   ]
  },
  {
   "cell_type": "markdown",
   "metadata": {},
   "source": [
    "Before we jump into hyperparameter tuning, let's visualize single decision tree to better understand what is happening in the random forest"
   ]
  },
  {
   "cell_type": "markdown",
   "metadata": {},
   "source": [
    "# Single Tree\n",
    "Let's first focus on a single tree and tune random forest from there. Best splits are combinations of variables and splits such that the resulting dependent variable groups are as different from each other as possible. For each variable for each possible value of that variable we see whether the split is better than the other variables' splits based on the weighted average of the RMSE."
   ]
  },
  {
   "cell_type": "code",
   "execution_count": 17,
   "metadata": {},
   "outputs": [
    {
     "name": "stdout",
     "output_type": "stream",
     "text": [
      "[0.5304648571503199, 0.5797389296567196, 0.3948475978583238, 0.39977662747873666]\n"
     ]
    }
   ],
   "source": [
    "rf_1 = RandomForestRegressor(n_estimators = 1, max_depth = 3, bootstrap = False, n_jobs = -1)\n",
    "rf_1.fit(X_train, y_train)\n",
    "print_score(rf_1)"
   ]
  },
  {
   "cell_type": "code",
   "execution_count": 119,
   "metadata": {},
   "outputs": [
    {
     "data": {
      "image/png": "[encoded data removed]",
      "text/plain": [
       "<IPython.core.display.Image object>"
      ]
     },
     "execution_count": 119,
     "metadata": {},
     "output_type": "execute_result"
    }
   ],
   "source": [
    "# Load libraries\n",
    "\n",
    "from IPython.display import Image  \n",
    "from sklearn import tree\n",
    "import pydotplus\n",
    "\n",
    "# Create DOT data\n",
    "dot_data = tree.export_graphviz(rf_1.estimators_[0], out_file=None, \n",
    "                                feature_names=X_train.columns)\n",
    "\n",
    "# Draw graph\n",
    "graph = pydotplus.graph_from_dot_data(dot_data)  \n",
    "\n",
    "# Show graph\n",
    "Image(graph.create_png())"
   ]
  },
  {
   "cell_type": "code",
   "execution_count": 19,
   "metadata": {},
   "outputs": [
    {
     "name": "stdout",
     "output_type": "stream",
     "text": [
      "[4.864753555590494e-17, 0.5170339030151102, 1.0, 0.5225960398087806]\n"
     ]
    }
   ],
   "source": [
    "rf_1d = RandomForestRegressor(n_estimators = 1, bootstrap = False, n_jobs = -1)\n",
    "rf_1d.fit(X_train, y_train)\n",
    "print_score(rf_1d)"
   ]
  },
  {
   "cell_type": "markdown",
   "metadata": {},
   "source": [
    "# Random Forests\n",
    "Random Forests is a way of bagging regular decision trees! So, let us first understand bagging."
   ]
  },
  {
   "cell_type": "markdown",
   "metadata": {},
   "source": [
    "## Bagging\n",
    "You can bag any kind of model. Bagging - what if we created 5 different model, which are weak individually, but the models weren't predicted with each other - 5 models would have found different insights, so if you took the average - you are brining insights from each model. That is an example of an ensemble. Each has random UNCORRELATED errors - and when we average we get error of 0! Picks out rows to train each model on with replacement - so could be double. Impotant to create uncorrelted trees than accuracte trees for RF"
   ]
  },
  {
   "cell_type": "code",
   "execution_count": 20,
   "metadata": {},
   "outputs": [
    {
     "name": "stdout",
     "output_type": "stream",
     "text": [
      "CPU times: user 38.2 s, sys: 529 ms, total: 38.7 s\n",
      "Wall time: 13.7 s\n",
      "[0.09369429241655373, 0.3417464899065718, 0.9811210516660327, 0.7914279550575253]\n"
     ]
    }
   ],
   "source": [
    "np.random.seed(1234)\n",
    "m = RandomForestRegressor(n_jobs=-1, n_estimators = 100)\n",
    "%time m.fit(X_train, y_train)\n",
    "print_score(m)"
   ]
  },
  {
   "cell_type": "code",
   "execution_count": 21,
   "metadata": {},
   "outputs": [
    {
     "data": {
      "text/plain": [
       "(array([ 8.9226583 ,  9.51044496,  9.30565055,  8.98719682,  9.21034037,\n",
       "         9.47270464,  8.95544812,  9.04782144,  9.21034037,  9.43348392,\n",
       "         9.04782144,  9.04782144,  8.98719682,  9.18502256,  9.74096862,\n",
       "         8.98719682,  9.21034037,  9.35010231,  9.83894903,  9.24956109,\n",
       "         8.9226583 ,  9.21034037,  9.54681261,  9.21034037,  9.21034037,\n",
       "         9.35010231,  9.10497986,  9.21034037,  9.83894903, 10.04324949,\n",
       "         9.43348392,  8.9226583 ,  8.9226583 ,  9.30565055,  9.04782144,\n",
       "         9.47270464,  9.35010231,  9.21034037,  9.58190393,  9.47270464,\n",
       "         8.9226583 ,  9.76995616,  9.04782144,  9.21034037,  9.35010231,\n",
       "         9.47270464,  9.21034037,  9.47270464,  9.35010231,  9.18502256,\n",
       "         9.54681261,  9.30565055,  8.98719682,  8.98719682,  9.21034037,\n",
       "         9.21034037,  9.54681261,  9.71111566,  9.47270464,  9.30565055,\n",
       "         9.25913054,  8.98719682,  9.07680898,  9.21034037,  9.21034037,\n",
       "         9.76995616,  8.98719682,  9.21034037,  9.35010231,  8.9226583 ,\n",
       "         9.10497986,  9.21034037,  9.21034037,  9.47270464,  9.30565055,\n",
       "         9.35010231,  9.47270464,  9.90348755,  9.25913054,  9.10497986,\n",
       "         9.21034037,  9.07680898,  8.98719682,  8.9226583 ,  8.9226583 ,\n",
       "         9.35010231,  9.21034037,  9.39266193, 10.04324949,  9.30565055,\n",
       "         9.21034037,  9.54681261,  9.47270464,  9.30565055,  9.35010231,\n",
       "         8.98719682,  9.39266193,  9.74096862,  9.30565055,  9.25913054]),\n",
       " 9.28716163739314,\n",
       " 9.104979856318357)"
      ]
     },
     "execution_count": 21,
     "metadata": {},
     "output_type": "execute_result"
    }
   ],
   "source": [
    "preds = np.stack([t.predict(X_valid) for t in m.estimators_])\n",
    "(preds[:,0], np.mean(preds[:,0]), list(y_valid)[0])"
   ]
  },
  {
   "cell_type": "markdown",
   "metadata": {},
   "source": [
    "We can see that individually decision trees are doing an OK job at predicting individual data points from the validation set. However, when we average out predictions of all decision trees we get a relatively close result."
   ]
  },
  {
   "cell_type": "code",
   "execution_count": 22,
   "metadata": {},
   "outputs": [
    {
     "data": {
      "image/png": "[encoded data removed]",
      "text/plain": [
       "<Figure size 432x288 with 1 Axes>"
      ]
     },
     "metadata": {
      "needs_background": "light"
     },
     "output_type": "display_data"
    }
   ],
   "source": [
    "plt.plot([metrics.r2_score(y_valid, np.mean(preds[:i+1], axis=0)) for i in range(50)]);"
   ]
  },
  {
   "cell_type": "markdown",
   "metadata": {},
   "source": [
    "The shape of this curve suggests that adding more trees isn't going to help us much. Let's check. (Compare this to our original model on a sample)"
   ]
  },
  {
   "cell_type": "code",
   "execution_count": 23,
   "metadata": {},
   "outputs": [
    {
     "name": "stdout",
     "output_type": "stream",
     "text": [
      "[0.10197388510148761, 0.3393423733824981, 0.9776370311914254, 0.7943521563619504]\n"
     ]
    }
   ],
   "source": [
    "m = RandomForestRegressor(n_estimators=20, n_jobs=-1)\n",
    "m.fit(X_train, y_train)\n",
    "print_score(m)"
   ]
  },
  {
   "cell_type": "code",
   "execution_count": 24,
   "metadata": {},
   "outputs": [
    {
     "name": "stdout",
     "output_type": "stream",
     "text": [
      "[0.09945134453770503, 0.35169946230778404, 0.9787297377569716, 0.7791022040236251]\n"
     ]
    }
   ],
   "source": [
    "m = RandomForestRegressor(n_estimators=30, n_jobs=-1)\n",
    "m.fit(X_train, y_train)\n",
    "print_score(m)"
   ]
  },
  {
   "cell_type": "code",
   "execution_count": 25,
   "metadata": {},
   "outputs": [
    {
     "name": "stdout",
     "output_type": "stream",
     "text": [
      "[0.09667664927297875, 0.347199405853864, 0.9799000625496824, 0.7847188916771731]\n"
     ]
    }
   ],
   "source": [
    "m = RandomForestRegressor(n_estimators=50, n_jobs=-1)\n",
    "m.fit(X_train, y_train)\n",
    "print_score(m)"
   ]
  },
  {
   "cell_type": "markdown",
   "metadata": {},
   "source": [
    "From the above it we can clearly see that going above n_estimators of 30 has a small marginal effect on the validation score."
   ]
  },
  {
   "cell_type": "markdown",
   "metadata": {},
   "source": [
    "### Uncorrelated Trees\n",
    "If you build 1000 trees on 10 datapoints than the predictions are going to be very different -> correlations between predictions will be small (individual trees are not generalizing very well). On the other hand, if we build 1000 trees on almost all data we will get highly correlated trees and predictions (no generalize very well)."
   ]
  },
  {
   "cell_type": "code",
   "execution_count": 26,
   "metadata": {},
   "outputs": [
    {
     "data": {
      "image/png": "[encoded data removed]",
      "text/plain": [
       "<Figure size 432x288 with 1 Axes>"
      ]
     },
     "metadata": {
      "needs_background": "light"
     },
     "output_type": "display_data"
    }
   ],
   "source": [
    "preds = []\n",
    "for i in range(1,11):\n",
    "    m = RandomForestRegressor(n_jobs=-1, max_features = i/10)\n",
    "    m.fit(X_train, y_train)\n",
    "    preds.append(m.predict(X_valid))\n",
    "\n",
    "plt.plot(np.array([*range(1,11)])/10,[metrics.r2_score(y_valid, preds[i]) for i in range(10)]);"
   ]
  },
  {
   "cell_type": "markdown",
   "metadata": {},
   "source": [
    "## Out-of-bag (OOB) score\n",
    "Is our validation set worse than our training set because we're over-fitting, or because the validation set is for a different time period, or a bit of both? With the existing information we've shown, we can't tell. However, random forests have a very clever trick called out-of-bag (OOB) error which can handle this (and more!)\n",
    "\n",
    "The idea is to calculate error on the training set, but only include the trees in the calculation of a row's error where that row was not included in training that tree. This allows us to see whether the model is over-fitting, without needing a separate validation set.\n",
    "\n",
    "This also has the benefit of allowing us to see whether our model generalizes, even if we only have a small amount of data so want to avoid separating some out to create a validation set.\n",
    "\n",
    "This is as simple as adding one more parameter to our model constructor."
   ]
  },
  {
   "cell_type": "code",
   "execution_count": 27,
   "metadata": {},
   "outputs": [
    {
     "name": "stdout",
     "output_type": "stream",
     "text": [
      "[0.0971790107362289, 0.344242755840424, 0.9796906289637263, 0.7883698237325424, 0.8566749674239507]\n"
     ]
    }
   ],
   "source": [
    "m = RandomForestRegressor(n_estimators=40, n_jobs=-1, oob_score=True)\n",
    "m.fit(X_train, y_train)\n",
    "print_score(m)"
   ]
  },
  {
   "cell_type": "markdown",
   "metadata": {},
   "source": [
    "## Best Practice\n",
    "Do most of the models on subsets of data! Speed at the beginning is key"
   ]
  },
  {
   "cell_type": "code",
   "execution_count": 28,
   "metadata": {},
   "outputs": [
    {
     "data": {
      "text/plain": [
       "(389125, 66)"
      ]
     },
     "execution_count": 28,
     "metadata": {},
     "output_type": "execute_result"
    }
   ],
   "source": [
    "def get_sample(df,n):\n",
    "    idxs = sorted(np.random.permutation(len(df))[:n])\n",
    "    return df.iloc[idxs].copy()\n",
    "\n",
    "n_valid = 12000\n",
    "n_trn = len(df_bull)-n_valid\n",
    "\n",
    "X_train, X_valid = split_vals(df_bull.drop('SalePrice', axis = 1), n_trn)\n",
    "y_train, y_valid = split_vals(y, n_trn)\n",
    "raw_train, raw_valid = split_vals(df_bull, n_trn)\n",
    "X_train.shape"
   ]
  },
  {
   "cell_type": "markdown",
   "metadata": {},
   "source": [
    "### Ovoiding Overfitting\n",
    "1. Subsampling (above)\n",
    "2. Reduce the tree depth - min_samples_leaf = 3, not one\n",
    "3. Reduce number of features available for each tree. For example, max_features = 0.5 - less correlation the better - what if every tree uses one very imortant column, but we might imagine there are some interactions that are important. So, in addition, to choosing subset of rows, at every split point we choose a different SUBSET of columns. Every possible level of a random subset of columns!\n",
    "Trees are differnet on rows, max_features - indicates to use different columns"
   ]
  },
  {
   "cell_type": "markdown",
   "metadata": {},
   "source": [
    "def set_rf_samples(n):\n",
    "    \"\"\" Changes Scikit learn's random forests to give each tree a random sample of\n",
    "    n random rows.\n",
    "    \"\"\"\n",
    "    forest._generate_sample_indices = (lambda rs, n_samples:\n",
    "        forest.check_random_state(rs).randint(0, n_samples, n))\n",
    "\n",
    "def reset_rf_samples():\n",
    "    \"\"\" Undoes the changes produced by set_rf_samples.\n",
    "    \"\"\"\n",
    "    forest._generate_sample_indices = (lambda rs, n_samples:\n",
    "        forest.check_random_state(rs).randint(0, n_samples, n_samples))\n",
    "\n",
    "### Summary of RF hyperparameters effects\n",
    "\n",
    "set_rf_samples - rows in each tree, if rf_samples = 20000, then if tree is balanced, # of layers is log_2(20000), # of leaf nodes - 20000. decrease sample size - less final decisions - tree is less rich, less binary choices. Low - less overfitting, less accuract individual tree models. When building a bagging model - try to achive 2 things: each individual model is as accuracte as possible + across estimators - the correlation is as low as possible. So when we decrease the rf sample we decrease the power of the esimator but achive the 2nd thing: keeping the correlation low.\n",
    "\n",
    "min_samples_leaf - if set it to 2 then # of layers is log_2(20000) - 2, each time we double min_samples_leaf we subtract one layer. Leaf nodes: 10k. Each leaf has more than one thing in it = more stable average. Less depth. Result - each esimator - less predictive, but also predictors will be less correlated. \n",
    "- 1, 3, 5, 10, 25, 100\n",
    "\n",
    "max_features - at each split it will randomly pick differnt proportion of the features. We want the trees to be as rich as possible. Picking different subset of features at each decision point.\n",
    "- None\n",
    "- 0.5\n",
    "- 'sqrt'\n",
    "\n"
   ]
  },
  {
   "cell_type": "code",
   "execution_count": 29,
   "metadata": {},
   "outputs": [
    {
     "name": "stderr",
     "output_type": "stream",
     "text": [
      "/Users/nyatchen/opt/anaconda3/lib/python3.7/site-packages/sklearn/utils/deprecation.py:144: FutureWarning: The sklearn.ensemble.forest module is  deprecated in version 0.22 and will be removed in version 0.24. The corresponding classes / functions should instead be imported from sklearn.ensemble. Anything that cannot be imported from sklearn.ensemble is now part of the private API.\n",
      "  warnings.warn(message, FutureWarning)\n"
     ]
    }
   ],
   "source": [
    "from sklearn.ensemble import forest\n",
    "\n",
    "def set_rf_samples(n): \n",
    "    \"\"\" Changes Scikit learn's random forests to give each tree a random sample of n random rows. \"\"\" \n",
    "    forest._generate_sample_indices = (lambda rs, n_samples: forest.check_random_state(rs).randint(0, n_samples, n))\n",
    "\n",
    "def reset_rf_samples(): \n",
    "    \"\"\" Undoes the changes produced by set_rf_samples. \"\"\" \n",
    "    forest._generate_sample_indices = (lambda rs, n_samples: forest.check_random_state(rs).randint(0, n_samples, n_samples))"
   ]
  },
  {
   "cell_type": "markdown",
   "metadata": {},
   "source": [
    "# Confidence based on tree variance\n",
    "Let's continue using a subset of data and examine variability in predictions made by random forests."
   ]
  },
  {
   "cell_type": "code",
   "execution_count": 30,
   "metadata": {},
   "outputs": [
    {
     "name": "stdout",
     "output_type": "stream",
     "text": [
      "[0.11483275298341258, 0.2269224575029385, 0.9724408144128458, 0.9080391598341562, 0.9141564092541117]\n"
     ]
    }
   ],
   "source": [
    "set_rf_samples(50000)\n",
    "\n",
    "m_rf = RandomForestRegressor(n_estimators = 70, min_samples_leaf = 3, max_features = 0.7, n_jobs = -1, oob_score = True)\n",
    "m_rf.fit(X_train, y_train)\n",
    "print_score(m_rf)"
   ]
  },
  {
   "cell_type": "markdown",
   "metadata": {},
   "source": [
    "How do we know how confident we are in the predictions made by the model above? We know we get them by averaging predictions made by single decision trees in a forest. One simple way os to use the standard deviation of predictions, instead of the mean. This tells us the relative confidence of predictions - that is, how much variability there is amongst prediction for specific row. Higher variability means less certainty in the prediction. Let's obtain standard deviation of the preditions:"
   ]
  },
  {
   "cell_type": "code",
   "execution_count": 31,
   "metadata": {},
   "outputs": [
    {
     "data": {
      "text/plain": [
       "(9.144080479296145, 0.13023377328895075)"
      ]
     },
     "execution_count": 31,
     "metadata": {},
     "output_type": "execute_result"
    }
   ],
   "source": [
    "preds = np.stack([t.predict(X_valid) for t in m_rf.estimators_])\n",
    "(np.mean(preds[:, 0]), np.std(preds[:, 0]))"
   ]
  },
  {
   "cell_type": "markdown",
   "metadata": {},
   "source": [
    "We can see that different trees are giving different estimates this this auction. In order to see how prediction confidence varies, we can add this into our dataset."
   ]
  },
  {
   "cell_type": "code",
   "execution_count": 32,
   "metadata": {},
   "outputs": [
    {
     "data": {
      "image/png": "[encoded data removed]",
      "text/plain": [
       "<Figure size 432x288 with 1 Axes>"
      ]
     },
     "metadata": {
      "needs_background": "light"
     },
     "output_type": "display_data"
    }
   ],
   "source": [
    "raw_train, raw_valid = split_vals(df_raw, n_trn)\n",
    "\n",
    "x = raw_valid.copy()\n",
    "x['pred_std'] = np.std(preds, axis=0)\n",
    "x['pred'] = np.mean(preds, axis=0)\n",
    "x.Enclosure.value_counts().plot.barh();"
   ]
  },
  {
   "cell_type": "code",
   "execution_count": 33,
   "metadata": {},
   "outputs": [
    {
     "data": {
      "text/html": [
       "<div>\n",
       "<style scoped>\n",
       "    .dataframe tbody tr th:only-of-type {\n",
       "        vertical-align: middle;\n",
       "    }\n",
       "\n",
       "    .dataframe tbody tr th {\n",
       "        vertical-align: top;\n",
       "    }\n",
       "\n",
       "    .dataframe thead th {\n",
       "        text-align: right;\n",
       "    }\n",
       "</style>\n",
       "<table border=\"1\" class=\"dataframe\">\n",
       "  <thead>\n",
       "    <tr style=\"text-align: right;\">\n",
       "      <th></th>\n",
       "      <th>Enclosure</th>\n",
       "      <th>SalePrice</th>\n",
       "      <th>pred</th>\n",
       "      <th>pred_std</th>\n",
       "    </tr>\n",
       "  </thead>\n",
       "  <tbody>\n",
       "    <tr>\n",
       "      <th>0</th>\n",
       "      <td>EROPS</td>\n",
       "      <td>9.849178</td>\n",
       "      <td>9.839120</td>\n",
       "      <td>0.242899</td>\n",
       "    </tr>\n",
       "    <tr>\n",
       "      <th>1</th>\n",
       "      <td>EROPS AC</td>\n",
       "      <td>NaN</td>\n",
       "      <td>NaN</td>\n",
       "      <td>NaN</td>\n",
       "    </tr>\n",
       "    <tr>\n",
       "      <th>2</th>\n",
       "      <td>EROPS w AC</td>\n",
       "      <td>10.623971</td>\n",
       "      <td>10.595917</td>\n",
       "      <td>0.225169</td>\n",
       "    </tr>\n",
       "    <tr>\n",
       "      <th>3</th>\n",
       "      <td>NO ROPS</td>\n",
       "      <td>NaN</td>\n",
       "      <td>NaN</td>\n",
       "      <td>NaN</td>\n",
       "    </tr>\n",
       "    <tr>\n",
       "      <th>4</th>\n",
       "      <td>None or Unspecified</td>\n",
       "      <td>NaN</td>\n",
       "      <td>NaN</td>\n",
       "      <td>NaN</td>\n",
       "    </tr>\n",
       "    <tr>\n",
       "      <th>5</th>\n",
       "      <td>OROPS</td>\n",
       "      <td>9.682064</td>\n",
       "      <td>9.680346</td>\n",
       "      <td>0.199149</td>\n",
       "    </tr>\n",
       "  </tbody>\n",
       "</table>\n",
       "</div>"
      ],
      "text/plain": [
       "             Enclosure  SalePrice       pred  pred_std\n",
       "0                EROPS   9.849178   9.839120  0.242899\n",
       "1             EROPS AC        NaN        NaN       NaN\n",
       "2           EROPS w AC  10.623971  10.595917  0.225169\n",
       "3              NO ROPS        NaN        NaN       NaN\n",
       "4  None or Unspecified        NaN        NaN       NaN\n",
       "5                OROPS   9.682064   9.680346  0.199149"
      ]
     },
     "execution_count": 33,
     "metadata": {},
     "output_type": "execute_result"
    }
   ],
   "source": [
    "flds = ['Enclosure', 'SalePrice', 'pred', 'pred_std']\n",
    "enc_summ = x[flds].groupby('Enclosure', as_index=False).mean()\n",
    "enc_summ"
   ]
  },
  {
   "cell_type": "code",
   "execution_count": 34,
   "metadata": {},
   "outputs": [
    {
     "data": {
      "image/png": "[encoded data removed]",
      "text/plain": [
       "<Figure size 432x288 with 1 Axes>"
      ]
     },
     "metadata": {
      "needs_background": "light"
     },
     "output_type": "display_data"
    }
   ],
   "source": [
    "enc_summ = enc_summ[~pd.isnull(enc_summ.SalePrice)]\n",
    "enc_summ.plot('Enclosure', 'SalePrice', 'barh', alpha = 0.7, xlim = (0,11.5), xerr = 'pred_std');"
   ]
  },
  {
   "cell_type": "markdown",
   "metadata": {},
   "source": [
    "From the dataframe above we can clearly tell that the predictions are close, but the standard deviation is high - why is that ?"
   ]
  },
  {
   "cell_type": "markdown",
   "metadata": {},
   "source": [
    "Let's investigate our train dataset and compare its ProductSize distribution to the validation set"
   ]
  },
  {
   "cell_type": "code",
   "execution_count": 35,
   "metadata": {},
   "outputs": [
    {
     "data": {
      "image/png": "[encoded data removed]",
      "text/plain": [
       "<Figure size 432x288 with 1 Axes>"
      ]
     },
     "metadata": {
      "needs_background": "light"
     },
     "output_type": "display_data"
    }
   ],
   "source": [
    "temp = X_train.ProductSize.astype('category').map(dict( zip( raw_valid.ProductSize.cat.codes + 1, raw_valid.ProductSize ) ))\n",
    "temp.value_counts().plot.barh();"
   ]
  },
  {
   "cell_type": "code",
   "execution_count": 36,
   "metadata": {},
   "outputs": [
    {
     "data": {
      "image/png": "[encoded data removed]",
      "text/plain": [
       "<Figure size 432x288 with 1 Axes>"
      ]
     },
     "metadata": {
      "needs_background": "light"
     },
     "output_type": "display_data"
    }
   ],
   "source": [
    "raw_valid.ProductSize.value_counts().plot.barh();"
   ]
  },
  {
   "cell_type": "code",
   "execution_count": 37,
   "metadata": {},
   "outputs": [
    {
     "data": {
      "text/html": [
       "<div>\n",
       "<style scoped>\n",
       "    .dataframe tbody tr th:only-of-type {\n",
       "        vertical-align: middle;\n",
       "    }\n",
       "\n",
       "    .dataframe tbody tr th {\n",
       "        vertical-align: top;\n",
       "    }\n",
       "\n",
       "    .dataframe thead th {\n",
       "        text-align: right;\n",
       "    }\n",
       "</style>\n",
       "<table border=\"1\" class=\"dataframe\">\n",
       "  <thead>\n",
       "    <tr style=\"text-align: right;\">\n",
       "      <th></th>\n",
       "      <th>SalePrice</th>\n",
       "      <th>pred</th>\n",
       "      <th>pred_std</th>\n",
       "    </tr>\n",
       "    <tr>\n",
       "      <th>ProductSize</th>\n",
       "      <th></th>\n",
       "      <th></th>\n",
       "      <th></th>\n",
       "    </tr>\n",
       "  </thead>\n",
       "  <tbody>\n",
       "    <tr>\n",
       "      <th>Compact</th>\n",
       "      <td>9.735093</td>\n",
       "      <td>9.795297</td>\n",
       "      <td>0.273659</td>\n",
       "    </tr>\n",
       "    <tr>\n",
       "      <th>Large</th>\n",
       "      <td>10.470589</td>\n",
       "      <td>10.417941</td>\n",
       "      <td>0.317350</td>\n",
       "    </tr>\n",
       "    <tr>\n",
       "      <th>Large / Medium</th>\n",
       "      <td>10.691871</td>\n",
       "      <td>10.664259</td>\n",
       "      <td>0.265671</td>\n",
       "    </tr>\n",
       "    <tr>\n",
       "      <th>Medium</th>\n",
       "      <td>10.681511</td>\n",
       "      <td>10.634419</td>\n",
       "      <td>0.243384</td>\n",
       "    </tr>\n",
       "    <tr>\n",
       "      <th>Mini</th>\n",
       "      <td>9.535147</td>\n",
       "      <td>9.555149</td>\n",
       "      <td>0.209743</td>\n",
       "    </tr>\n",
       "    <tr>\n",
       "      <th>Small</th>\n",
       "      <td>10.324448</td>\n",
       "      <td>10.341153</td>\n",
       "      <td>0.260524</td>\n",
       "    </tr>\n",
       "  </tbody>\n",
       "</table>\n",
       "</div>"
      ],
      "text/plain": [
       "                SalePrice       pred  pred_std\n",
       "ProductSize                                   \n",
       "Compact          9.735093   9.795297  0.273659\n",
       "Large           10.470589  10.417941  0.317350\n",
       "Large / Medium  10.691871  10.664259  0.265671\n",
       "Medium          10.681511  10.634419  0.243384\n",
       "Mini             9.535147   9.555149  0.209743\n",
       "Small           10.324448  10.341153  0.260524"
      ]
     },
     "execution_count": 37,
     "metadata": {},
     "output_type": "execute_result"
    }
   ],
   "source": [
    "flds = ['ProductSize', 'SalePrice', 'pred', 'pred_std']\n",
    "summ = x[flds].groupby(flds[0]).mean()\n",
    "summ"
   ]
  },
  {
   "cell_type": "markdown",
   "metadata": {},
   "source": [
    "Comparing the 3 graphics above it makes sense that Large and Compact categories have the largest unceratinty. In the trianing set these categories are underrepresented vs what we see in the validation set."
   ]
  },
  {
   "cell_type": "markdown",
   "metadata": {},
   "source": [
    "# Feature Importance\n",
    "It's not just enough to know that a model can make accurate predictions - we also would like to know how it is making those predictions. The most straightforward way to see this is whith feature importance"
   ]
  },
  {
   "cell_type": "code",
   "execution_count": 38,
   "metadata": {},
   "outputs": [
    {
     "name": "stdout",
     "output_type": "stream",
     "text": [
      "66\n"
     ]
    },
    {
     "data": {
      "text/html": [
       "<div>\n",
       "<style scoped>\n",
       "    .dataframe tbody tr th:only-of-type {\n",
       "        vertical-align: middle;\n",
       "    }\n",
       "\n",
       "    .dataframe tbody tr th {\n",
       "        vertical-align: top;\n",
       "    }\n",
       "\n",
       "    .dataframe thead th {\n",
       "        text-align: right;\n",
       "    }\n",
       "</style>\n",
       "<table border=\"1\" class=\"dataframe\">\n",
       "  <thead>\n",
       "    <tr style=\"text-align: right;\">\n",
       "      <th></th>\n",
       "      <th>cols</th>\n",
       "      <th>imp</th>\n",
       "    </tr>\n",
       "  </thead>\n",
       "  <tbody>\n",
       "    <tr>\n",
       "      <th>5</th>\n",
       "      <td>YearMade</td>\n",
       "      <td>0.175204</td>\n",
       "    </tr>\n",
       "    <tr>\n",
       "      <th>37</th>\n",
       "      <td>Coupler_System</td>\n",
       "      <td>0.150258</td>\n",
       "    </tr>\n",
       "    <tr>\n",
       "      <th>13</th>\n",
       "      <td>ProductSize</td>\n",
       "      <td>0.103504</td>\n",
       "    </tr>\n",
       "    <tr>\n",
       "      <th>14</th>\n",
       "      <td>fiProductClassDesc</td>\n",
       "      <td>0.092606</td>\n",
       "    </tr>\n",
       "    <tr>\n",
       "      <th>2</th>\n",
       "      <td>ModelID</td>\n",
       "      <td>0.069900</td>\n",
       "    </tr>\n",
       "    <tr>\n",
       "      <th>63</th>\n",
       "      <td>saleElapsed</td>\n",
       "      <td>0.061852</td>\n",
       "    </tr>\n",
       "    <tr>\n",
       "      <th>10</th>\n",
       "      <td>fiSecondaryDesc</td>\n",
       "      <td>0.038373</td>\n",
       "    </tr>\n",
       "    <tr>\n",
       "      <th>19</th>\n",
       "      <td>Enclosure</td>\n",
       "      <td>0.034384</td>\n",
       "    </tr>\n",
       "    <tr>\n",
       "      <th>8</th>\n",
       "      <td>fiModelDesc</td>\n",
       "      <td>0.033020</td>\n",
       "    </tr>\n",
       "    <tr>\n",
       "      <th>38</th>\n",
       "      <td>Grouser_Tracks</td>\n",
       "      <td>0.026140</td>\n",
       "    </tr>\n",
       "    <tr>\n",
       "      <th>0</th>\n",
       "      <td>SalesID</td>\n",
       "      <td>0.025933</td>\n",
       "    </tr>\n",
       "    <tr>\n",
       "      <th>39</th>\n",
       "      <td>Hydraulics_Flow</td>\n",
       "      <td>0.024957</td>\n",
       "    </tr>\n",
       "    <tr>\n",
       "      <th>12</th>\n",
       "      <td>fiModelDescriptor</td>\n",
       "      <td>0.020299</td>\n",
       "    </tr>\n",
       "    <tr>\n",
       "      <th>9</th>\n",
       "      <td>fiBaseModel</td>\n",
       "      <td>0.018818</td>\n",
       "    </tr>\n",
       "    <tr>\n",
       "      <th>51</th>\n",
       "      <td>saleYear</td>\n",
       "      <td>0.015740</td>\n",
       "    </tr>\n",
       "  </tbody>\n",
       "</table>\n",
       "</div>"
      ],
      "text/plain": [
       "                  cols       imp\n",
       "5             YearMade  0.175204\n",
       "37      Coupler_System  0.150258\n",
       "13         ProductSize  0.103504\n",
       "14  fiProductClassDesc  0.092606\n",
       "2              ModelID  0.069900\n",
       "63         saleElapsed  0.061852\n",
       "10     fiSecondaryDesc  0.038373\n",
       "19           Enclosure  0.034384\n",
       "8          fiModelDesc  0.033020\n",
       "38      Grouser_Tracks  0.026140\n",
       "0              SalesID  0.025933\n",
       "39     Hydraulics_Flow  0.024957\n",
       "12   fiModelDescriptor  0.020299\n",
       "9          fiBaseModel  0.018818\n",
       "51            saleYear  0.015740"
      ]
     },
     "execution_count": 38,
     "metadata": {},
     "output_type": "execute_result"
    }
   ],
   "source": [
    "feat_imp = pd.DataFrame({'cols':X_train.columns, 'imp':m_rf.feature_importances_}\n",
    "                       ).sort_values('imp', ascending=False)\n",
    "print(len(feat_imp)); feat_imp.head(15)"
   ]
  },
  {
   "cell_type": "code",
   "execution_count": 39,
   "metadata": {},
   "outputs": [
    {
     "data": {
      "image/png": "[encoded data removed]",
      "text/plain": [
       "<Figure size 720x432 with 1 Axes>"
      ]
     },
     "metadata": {
      "needs_background": "light"
     },
     "output_type": "display_data"
    }
   ],
   "source": [
    "feat_imp.plot('cols', 'imp', figsize=(10,6), legend = False);\n",
    "plt.xticks(rotation=20);"
   ]
  },
  {
   "cell_type": "code",
   "execution_count": 40,
   "metadata": {},
   "outputs": [
    {
     "data": {
      "image/png": "[encoded data removed]",
      "text/plain": [
       "<Figure size 720x432 with 1 Axes>"
      ]
     },
     "metadata": {
      "needs_background": "light"
     },
     "output_type": "display_data"
    }
   ],
   "source": [
    "feat_imp.iloc[:20,:].plot('cols', 'imp', 'barh', legend = False, figsize = (10,6));"
   ]
  },
  {
   "cell_type": "code",
   "execution_count": 41,
   "metadata": {},
   "outputs": [
    {
     "data": {
      "text/plain": [
       "25"
      ]
     },
     "execution_count": 41,
     "metadata": {},
     "output_type": "execute_result"
    }
   ],
   "source": [
    "to_keep = feat_imp[feat_imp.imp>0.005].cols; to_keep = to_keep.append(pd.Series(['SalePrice']), ignore_index = True); len(to_keep)"
   ]
  },
  {
   "cell_type": "markdown",
   "metadata": {},
   "source": [
    "Lookin at feature importance graph, we observe there are variables that are relatively unimportant. We will create a new random forest and see if excluding relatively irrelavent columns will yield similar or better results on the validation set."
   ]
  },
  {
   "cell_type": "code",
   "execution_count": 42,
   "metadata": {},
   "outputs": [],
   "source": [
    "df_keep = df_bull[to_keep].copy()\n",
    "X_train, X_valid = split_vals(df_keep.drop('SalePrice', axis = 1), n_trn)"
   ]
  },
  {
   "cell_type": "code",
   "execution_count": 43,
   "metadata": {},
   "outputs": [
    {
     "name": "stdout",
     "output_type": "stream",
     "text": [
      "[0.11962779643492673, 0.22421583423222155, 0.9700911970033683, 0.9102198073756396, 0.9120079468554488]\n"
     ]
    }
   ],
   "source": [
    "m_rf = RandomForestRegressor(n_estimators = 70, min_samples_leaf = 3, max_features = 0.7, \n",
    "                             n_jobs = -1, oob_score = True)\n",
    "m_rf.fit(X_train, y_train)\n",
    "print_score(m_rf)"
   ]
  },
  {
   "cell_type": "code",
   "execution_count": 44,
   "metadata": {},
   "outputs": [
    {
     "data": {
      "image/png": "[encoded data removed]",
      "text/plain": [
       "<Figure size 720x432 with 1 Axes>"
      ]
     },
     "metadata": {
      "needs_background": "light"
     },
     "output_type": "display_data"
    }
   ],
   "source": [
    "feat_imp_new = pd.DataFrame({'cols':X_train.columns, 'imp':m_rf.feature_importances_}\n",
    "                       ).sort_values('imp', ascending=False)\n",
    "feat_imp_new.plot('cols', 'imp', 'barh', legend = False, figsize = (10,6));"
   ]
  },
  {
   "cell_type": "markdown",
   "metadata": {},
   "source": [
    "Now the random forest model is simpler, has less of an issue with overfitting, and reduced collinearity, while the validation score is the same."
   ]
  },
  {
   "cell_type": "markdown",
   "metadata": {},
   "source": [
    "## One-hot encoding\n",
    "What if we reviewed how we encoded categorical variables? By encoding our categorical variables with codes we might be very inneficient with our tree computations, as with every split we are halfing data available for the next tree, making each individual tree less rich. By doing one-hot encoding, RF has the ability to evaluate a single level of the categorical variable and judge whether it is a good predictor."
   ]
  },
  {
   "cell_type": "code",
   "execution_count": 45,
   "metadata": {},
   "outputs": [],
   "source": [
    "def numericalize(df, col, name, max_n_cat):\n",
    "    \"\"\" Changes the column col from a categorical type to it's integer codes.\n",
    "    Parameters:\n",
    "    -----------\n",
    "    df: A pandas dataframe. df[name] will be filled with the integer codes from\n",
    "        col.\n",
    "    col: The column you wish to change into the categories.\n",
    "    name: The column name you wish to insert into df. This column will hold the\n",
    "        integer codes.\n",
    "    max_n_cat: If col has more categories than max_n_cat it will not change the\n",
    "        it to its integer codes. If max_n_cat is None, then col will always be\n",
    "        converted.\n",
    "    \"\"\"\n",
    "    if not ptypes.is_numeric_dtype(col):\n",
    "        temp = col.astype('category').cat.as_ordered()\n",
    "        if( max_n_cat is None or len(temp.cat.categories)>max_n_cat):\n",
    "            df[name] = pd.Categorical(col).codes+1"
   ]
  },
  {
   "cell_type": "code",
   "execution_count": 46,
   "metadata": {},
   "outputs": [],
   "source": [
    "df_trn2 = df_raw_d.copy()\n",
    "\n",
    "# Cleaning Data\n",
    "import pandas.api.types as ptypes\n",
    "\n",
    "max_n_cat = 7\n",
    "for n, c in df_trn2.items():\n",
    "    numericalize(df_trn2, c, n, max_n_cat)\n",
    "\n",
    "df_trn2 = pd.get_dummies(df_trn2, dummy_na = True)\n",
    "\n",
    "for n, c in df_trn2.items():\n",
    "    if ptypes.is_string_dtype(c): df_trn2[n] = c.astype('category').cat.as_ordered()\n",
    "\n",
    "\n",
    "# Transforming datetime column\n",
    "prefix = 'sale'\n",
    "attr = ['Year', 'Month', 'Week', 'Day', 'Dayofweek', 'Dayofyear', 'Is_month_end', 'Is_month_start', \n",
    "            'Is_quarter_end', 'Is_quarter_start', 'Is_year_end', 'Is_year_start']\n",
    "df_trn2.saledate = pd.to_datetime(df_trn2.saledate, infer_datetime_format=True)\n",
    "\n",
    "for i in attr:\n",
    "    df_trn2[prefix+i] = getattr(df_trn2.saledate.dt, i.lower())\n",
    "df_trn2[prefix+'Elapsed'] = pd.to_datetime(df_trn2.saledate, infer_datetime_format=True).astype(np.int64)\n",
    "df_trn2.drop('saledate', axis = 1, inplace = True)\n",
    "\n",
    "# Fixing continuous missing values and numeric codes (-1 to 0)\n",
    "import pandas.api.types as ptypes\n",
    "for n,c in df_trn2.items():\n",
    "    if ptypes.is_numeric_dtype(c):\n",
    "        if pd.isnull(c).sum(): \n",
    "            df_trn2[n+'_na'] = pd.isnull(c)\n",
    "            df_trn2[n] = c.fillna(c.median())\n",
    "    if not ptypes.is_numeric_dtype(c):\n",
    "        df_trn2[n] = c.cat.codes+1"
   ]
  },
  {
   "cell_type": "code",
   "execution_count": 47,
   "metadata": {},
   "outputs": [
    {
     "name": "stdout",
     "output_type": "stream",
     "text": [
      "[0.12131539802489903, 0.23309128896648318, 0.9692413917413004, 0.902971333907924, 0.9119098819044786]\n"
     ]
    }
   ],
   "source": [
    "X_train, X_valid = split_vals(df_trn2, n_trn)\n",
    "y_train = X_train.SalePrice\n",
    "y_valid = X_valid.SalePrice\n",
    "X_train.drop('SalePrice', axis = 1, inplace = True)\n",
    "X_valid.drop('SalePrice', axis = 1, inplace = True)\n",
    "\n",
    "rf_dum = RandomForestRegressor(n_estimators = 70, min_samples_leaf = 3, max_features = 0.7, n_jobs = -1, oob_score = True)\n",
    "rf_dum.fit(X_train, y_train)\n",
    "print_score(rf_dum)"
   ]
  },
  {
   "cell_type": "code",
   "execution_count": 48,
   "metadata": {},
   "outputs": [
    {
     "data": {
      "image/png": "[encoded data removed]",
      "text/plain": [
       "<Figure size 720x432 with 1 Axes>"
      ]
     },
     "metadata": {
      "needs_background": "light"
     },
     "output_type": "display_data"
    }
   ],
   "source": [
    "feat_imp_1he = pd.DataFrame({'cols':X_train.columns, 'imp':rf_dum.feature_importances_}\n",
    "                       ).sort_values('imp', ascending=False)\n",
    "feat_imp_1he[:25].plot('cols', 'imp', 'barh', legend = False, figsize = (10,6));"
   ]
  },
  {
   "cell_type": "markdown",
   "metadata": {},
   "source": [
    "## Removing redundant features\n",
    "There seem to be some variables with very simimiilar meanings. By going thorough the next step we are going to remove redundant features."
   ]
  },
  {
   "cell_type": "code",
   "execution_count": 49,
   "metadata": {},
   "outputs": [],
   "source": [
    "from scipy.cluster import hierarchy as hc"
   ]
  },
  {
   "cell_type": "code",
   "execution_count": 50,
   "metadata": {},
   "outputs": [
    {
     "data": {
      "image/png": "[encoded data removed]",
      "text/plain": [
       "<Figure size 1152x720 with 1 Axes>"
      ]
     },
     "metadata": {
      "needs_background": "light"
     },
     "output_type": "display_data"
    }
   ],
   "source": [
    "corr = np.round(scipy.stats.spearmanr(df_keep).correlation, 4)\n",
    "corr_condensed = hc.distance.squareform(1-corr)\n",
    "z = hc.linkage(corr_condensed, method='average')\n",
    "fig = plt.figure(figsize=(16,10))\n",
    "dendrogram = hc.dendrogram(z, labels=df_keep.columns, orientation='left', leaf_font_size=16)\n",
    "plt.show()"
   ]
  },
  {
   "cell_type": "code",
   "execution_count": 51,
   "metadata": {},
   "outputs": [],
   "source": [
    "def get_oob(df):\n",
    "    m = RandomForestRegressor(n_estimators=30, min_samples_leaf=5, max_features=0.6, n_jobs=-1, oob_score=True)\n",
    "    x, _ = split_vals(df, n_trn)\n",
    "    m.fit(x, y_train)\n",
    "    return m.oob_score_"
   ]
  },
  {
   "cell_type": "markdown",
   "metadata": {},
   "source": [
    "This is the baseline"
   ]
  },
  {
   "cell_type": "code",
   "execution_count": 52,
   "metadata": {},
   "outputs": [
    {
     "data": {
      "text/plain": [
       "0.9068085788033751"
      ]
     },
     "execution_count": 52,
     "metadata": {},
     "output_type": "execute_result"
    }
   ],
   "source": [
    "get_oob(df_keep.drop('SalePrice', axis = 1))"
   ]
  },
  {
   "cell_type": "markdown",
   "metadata": {},
   "source": [
    "Now remove one variable at a time"
   ]
  },
  {
   "cell_type": "code",
   "execution_count": 53,
   "metadata": {},
   "outputs": [
    {
     "name": "stdout",
     "output_type": "stream",
     "text": [
      "saleYear 0.9999842266047136\n"
     ]
    },
    {
     "name": "stderr",
     "output_type": "stream",
     "text": [
      "/Users/nyatchen/opt/anaconda3/lib/python3.7/site-packages/sklearn/ensemble/_forest.py:815: UserWarning: Some inputs do not have OOB scores. This probably means too few trees were used to compute any reliable oob estimates.\n",
      "  warn(\"Some inputs do not have OOB scores. \"\n"
     ]
    },
    {
     "name": "stdout",
     "output_type": "stream",
     "text": [
      "saleElapsed 0.9994309067113549\n",
      "fiModelDesc 0.9999845965516474\n",
      "fiBaseModel 0.999986177992455\n"
     ]
    },
    {
     "name": "stderr",
     "output_type": "stream",
     "text": [
      "/Users/nyatchen/opt/anaconda3/lib/python3.7/site-packages/sklearn/ensemble/_forest.py:815: UserWarning: Some inputs do not have OOB scores. This probably means too few trees were used to compute any reliable oob estimates.\n",
      "  warn(\"Some inputs do not have OOB scores. \"\n"
     ]
    },
    {
     "name": "stdout",
     "output_type": "stream",
     "text": [
      "Grouser_Tracks 0.9987265500250011\n",
      "Coupler_System 0.9999788250414521\n"
     ]
    }
   ],
   "source": [
    "for c in ('saleYear', 'saleElapsed', 'fiModelDesc', 'fiBaseModel', 'Grouser_Tracks', 'Coupler_System'):\n",
    "    print(c, get_oob(df_keep.drop(c, axis=1)))"
   ]
  },
  {
   "cell_type": "code",
   "execution_count": 54,
   "metadata": {},
   "outputs": [
    {
     "data": {
      "text/plain": [
       "0.9999869441736327"
      ]
     },
     "execution_count": 54,
     "metadata": {},
     "output_type": "execute_result"
    }
   ],
   "source": [
    "to_drop = ['saleYear', 'fiModelDesc', 'Grouser_Tracks']\n",
    "get_oob(df_keep.drop(to_drop, axis = 1))"
   ]
  },
  {
   "cell_type": "markdown",
   "metadata": {},
   "source": [
    "Let's save the list of columns so we can resue it later"
   ]
  },
  {
   "cell_type": "code",
   "execution_count": 55,
   "metadata": {},
   "outputs": [],
   "source": [
    "#df_keep.drop(to_drop, axis=1, inplace=True)\n",
    "X_train, X_valid = split_vals(df_keep.drop('SalePrice', axis = 1), n_trn)"
   ]
  },
  {
   "cell_type": "code",
   "execution_count": 56,
   "metadata": {},
   "outputs": [
    {
     "data": {
      "text/plain": [
       "Index(['YearMade', 'Coupler_System', 'ProductSize', 'fiProductClassDesc',\n",
       "       'ModelID', 'saleElapsed', 'fiSecondaryDesc', 'Enclosure', 'fiModelDesc',\n",
       "       'Grouser_Tracks', 'SalesID', 'Hydraulics_Flow', 'fiModelDescriptor',\n",
       "       'fiBaseModel', 'saleYear', 'MachineID', 'Hydraulics',\n",
       "       'ProductGroupDesc', 'state', 'saleDay', 'saleDayofyear', 'Drive_System',\n",
       "       'Tire_Size', 'ProductGroup'],\n",
       "      dtype='object')"
      ]
     },
     "execution_count": 56,
     "metadata": {},
     "output_type": "execute_result"
    }
   ],
   "source": [
    "X_train.columns"
   ]
  },
  {
   "cell_type": "code",
   "execution_count": 57,
   "metadata": {},
   "outputs": [],
   "source": [
    "np.save('tmp/keep_cols.npy', np.array(df_keep.drop('SalePrice', axis = 1).columns))"
   ]
  },
  {
   "cell_type": "code",
   "execution_count": 58,
   "metadata": {},
   "outputs": [
    {
     "data": {
      "text/plain": [
       "array(['YearMade', 'Coupler_System', 'ProductSize', 'fiProductClassDesc',\n",
       "       'ModelID', 'saleElapsed', 'fiSecondaryDesc', 'Enclosure',\n",
       "       'fiModelDesc', 'Grouser_Tracks', 'SalesID', 'Hydraulics_Flow',\n",
       "       'fiModelDescriptor', 'fiBaseModel', 'saleYear', 'MachineID',\n",
       "       'Hydraulics', 'ProductGroupDesc', 'state', 'saleDay',\n",
       "       'saleDayofyear', 'Drive_System', 'Tire_Size', 'ProductGroup'],\n",
       "      dtype=object)"
      ]
     },
     "execution_count": 58,
     "metadata": {},
     "output_type": "execute_result"
    }
   ],
   "source": [
    "keep_cols = np.load('tmp/keep_cols.npy', allow_pickle=True)\n",
    "df_keep = df_bull[keep_cols]\n",
    "keep_cols"
   ]
  },
  {
   "cell_type": "code",
   "execution_count": 59,
   "metadata": {},
   "outputs": [],
   "source": [
    "reset_rf_samples()"
   ]
  },
  {
   "cell_type": "code",
   "execution_count": 60,
   "metadata": {},
   "outputs": [
    {
     "name": "stdout",
     "output_type": "stream",
     "text": [
      "[0.1194164653787505, 0.22391406445294323, 0.9701967757428662, 0.9104613132170469, 0.9123383458766379]\n"
     ]
    }
   ],
   "source": [
    "rf_full = RandomForestRegressor(n_estimators=70, min_samples_leaf=3, max_features=0.7, n_jobs=-1, oob_score=True)\n",
    "rf_full.fit(X_train, y_train)\n",
    "print_score(rf_full)"
   ]
  },
  {
   "cell_type": "code",
   "execution_count": 61,
   "metadata": {},
   "outputs": [
    {
     "name": "stderr",
     "output_type": "stream",
     "text": [
      "/Users/nyatchen/opt/anaconda3/lib/python3.7/site-packages/ipykernel_launcher.py:1: SettingWithCopyWarning: \n",
      "A value is trying to be set on a copy of a slice from a DataFrame\n",
      "\n",
      "See the caveats in the documentation: https://pandas.pydata.org/pandas-docs/stable/user_guide/indexing.html#returning-a-view-versus-a-copy\n",
      "  \"\"\"Entry point for launching an IPython kernel.\n",
      "/Users/nyatchen/opt/anaconda3/lib/python3.7/site-packages/pandas/core/generic.py:8767: SettingWithCopyWarning: \n",
      "A value is trying to be set on a copy of a slice from a DataFrame\n",
      "\n",
      "See the caveats in the documentation: https://pandas.pydata.org/pandas-docs/stable/user_guide/indexing.html#returning-a-view-versus-a-copy\n",
      "  self._update_inplace(new_data)\n",
      "/Users/nyatchen/opt/anaconda3/lib/python3.7/site-packages/ipykernel_launcher.py:2: SettingWithCopyWarning: \n",
      "A value is trying to be set on a copy of a slice from a DataFrame.\n",
      "Try using .loc[row_indexer,col_indexer] = value instead\n",
      "\n",
      "See the caveats in the documentation: https://pandas.pydata.org/pandas-docs/stable/user_guide/indexing.html#returning-a-view-versus-a-copy\n",
      "  \n"
     ]
    }
   ],
   "source": [
    "df_keep.YearMade[df_keep.YearMade<1940] = 1940\n",
    "df_keep['age'] = df_raw.saleYear - df_raw.YearMade"
   ]
  },
  {
   "cell_type": "code",
   "execution_count": 62,
   "metadata": {},
   "outputs": [
    {
     "data": {
      "text/plain": [
       "Index(['YearMade', 'Coupler_System', 'ProductSize', 'fiProductClassDesc',\n",
       "       'ModelID', 'saleElapsed', 'fiSecondaryDesc', 'Enclosure', 'fiModelDesc',\n",
       "       'Grouser_Tracks', 'SalesID', 'Hydraulics_Flow', 'fiModelDescriptor',\n",
       "       'fiBaseModel', 'saleYear', 'MachineID', 'Hydraulics',\n",
       "       'ProductGroupDesc', 'state', 'saleDay', 'saleDayofyear', 'Drive_System',\n",
       "       'Tire_Size', 'ProductGroup', 'age'],\n",
       "      dtype='object')"
      ]
     },
     "execution_count": 62,
     "metadata": {},
     "output_type": "execute_result"
    }
   ],
   "source": [
    "df_keep.columns"
   ]
  },
  {
   "cell_type": "code",
   "execution_count": 94,
   "metadata": {},
   "outputs": [
    {
     "data": {
      "image/png": "[encoded data removed]",
      "text/plain": [
       "<Figure size 720x432 with 1 Axes>"
      ]
     },
     "metadata": {
      "needs_background": "light"
     },
     "output_type": "display_data"
    }
   ],
   "source": [
    "X_train, X_valid = split_vals(df_keep, n_trn)\n",
    "rf_m = RandomForestRegressor(n_estimators = 70, min_samples_leaf = 3, max_features = 0.7, n_jobs = -1)\n",
    "rf_m.fit(X_train, y_train)\n",
    "feat_imp = pd.DataFrame({'cols':X_train.columns, 'imp':rf_m.feature_importances_}\n",
    "                       ).sort_values('imp', ascending=False)\n",
    "feat_imp[:25].plot('cols', 'imp', 'barh', legend = False, figsize = (10,6));"
   ]
  },
  {
   "cell_type": "code",
   "execution_count": 64,
   "metadata": {},
   "outputs": [
    {
     "name": "stdout",
     "output_type": "stream",
     "text": [
      "[0.11946378571400228, 0.22304119219576246, 0.9701731512287166, 0.911158040333895]\n"
     ]
    }
   ],
   "source": [
    "print_score(rf_m)"
   ]
  },
  {
   "cell_type": "markdown",
   "metadata": {},
   "source": [
    "# Tree interpreter\n",
    "It is important to understand WHY the model is making a certain prediction - treeinterpreter does exactly that. The RF model creates multiple trees by creating best splits in data, like YearMade > 1999.5, Enclosure <= 2.0. Each group has an average log(SalePrice) associated with the split. What treeinterpreter does is it traces the values of the particular row with the RF splits and records the marginal change in log(SalePrice), dependent variable. So that we can see how each variable contributed to the final prediction."
   ]
  },
  {
   "cell_type": "code",
   "execution_count": 65,
   "metadata": {},
   "outputs": [],
   "source": [
    "from treeinterpreter import treeinterpreter as ti"
   ]
  },
  {
   "cell_type": "code",
   "execution_count": 66,
   "metadata": {},
   "outputs": [],
   "source": [
    "df_train, df_valid = split_vals(df_keep, n_trn)"
   ]
  },
  {
   "cell_type": "code",
   "execution_count": 67,
   "metadata": {},
   "outputs": [
    {
     "data": {
      "text/plain": [
       "array([[               1999,                   0,                   5,\n",
       "                         17,                 665, 1284595200000000000,\n",
       "                          0,                   1,                3232,\n",
       "                          0,             4364751,                   0,\n",
       "                          0,                1111,                2010,\n",
       "                    2300944,                  12,                   4,\n",
       "                         35,                  16,                 259,\n",
       "                          0,                   0,                   4,\n",
       "                         11]])"
      ]
     },
     "execution_count": 67,
     "metadata": {},
     "output_type": "execute_result"
    }
   ],
   "source": [
    "row = X_valid.values[None,0]; row"
   ]
  },
  {
   "cell_type": "code",
   "execution_count": 68,
   "metadata": {},
   "outputs": [],
   "source": [
    "prediction, bias, contributions = ti.predict(rf_m, row)"
   ]
  },
  {
   "cell_type": "code",
   "execution_count": 69,
   "metadata": {},
   "outputs": [
    {
     "data": {
      "text/plain": [
       "(array([9.16945323]), 10.105434350067865)"
      ]
     },
     "execution_count": 69,
     "metadata": {},
     "output_type": "execute_result"
    }
   ],
   "source": [
    "prediction[0], bias[0]"
   ]
  },
  {
   "cell_type": "code",
   "execution_count": 70,
   "metadata": {},
   "outputs": [],
   "source": [
    "idxs = np.argsort(contributions[0])"
   ]
  },
  {
   "cell_type": "code",
   "execution_count": 71,
   "metadata": {},
   "outputs": [
    {
     "data": {
      "text/plain": [
       "[('ProductSize', 5, -0.6128835098249938),\n",
       " ('age', 11, -0.17112487871747983),\n",
       " ('fiProductClassDesc', 17, -0.11217624083560135),\n",
       " ('fiModelDesc', 3232, -0.11060302674445467),\n",
       " ('fiSecondaryDesc', 0, -0.10309281670802195),\n",
       " ('fiBaseModel', 1111, -0.07772037116143855),\n",
       " ('saleElapsed', 1284595200000000000, -0.018959051102613676),\n",
       " ('Enclosure', 1, -0.01624431535268846),\n",
       " ('fiModelDescriptor', 0, -0.014137050698703035),\n",
       " ('saleYear', 2010, -0.008129303931706947),\n",
       " ('Tire_Size', 0, -0.002138616058852426),\n",
       " ('SalesID', 4364751, -0.0018557288863585493),\n",
       " ('state', 35, -0.0008290481570321211),\n",
       " ('MachineID', 2300944, -0.0006526458862023077),\n",
       " ('saleDayofyear', 259, -5.8706067101458155e-05),\n",
       " ('ProductGroupDesc', 4, 0.0022331562615322906),\n",
       " ('saleDay', 16, 0.003433819219844812),\n",
       " ('Drive_System', 0, 0.0035409214392561695),\n",
       " ('ProductGroup', 4, 0.009751283992425691),\n",
       " ('Hydraulics_Flow', 0, 0.010503043104648313),\n",
       " ('Grouser_Tracks', 0, 0.015060955654871578),\n",
       " ('Hydraulics', 12, 0.015835968042317995),\n",
       " ('Coupler_System', 0, 0.0767693367951409),\n",
       " ('YearMade', 1999, 0.08052258010338732),\n",
       " ('ModelID', 665, 0.09697312797266296)]"
      ]
     },
     "execution_count": 71,
     "metadata": {},
     "output_type": "execute_result"
    }
   ],
   "source": [
    "[o for o in zip(df_keep.columns[idxs], df_valid.iloc[0][idxs], contributions[0][idxs])]"
   ]
  },
  {
   "cell_type": "code",
   "execution_count": 72,
   "metadata": {},
   "outputs": [
    {
     "data": {
      "text/plain": [
       "-0.9359811175471612"
      ]
     },
     "execution_count": 72,
     "metadata": {},
     "output_type": "execute_result"
    }
   ],
   "source": [
    "contributions[0].sum()"
   ]
  },
  {
   "cell_type": "markdown",
   "metadata": {},
   "source": [
    "# Extrapolation\n",
    "It is hard to extrapolate with Random Forests. RF models do well with find points that closely resemble points in the train data set, but how would you extrapolate into the future? Well, one tactic would be to eliminate time dependent variables and focus on variables that prove to be time independent."
   ]
  },
  {
   "cell_type": "code",
   "execution_count": 99,
   "metadata": {},
   "outputs": [
    {
     "name": "stderr",
     "output_type": "stream",
     "text": [
      "/Users/nyatchen/opt/anaconda3/lib/python3.7/site-packages/ipykernel_launcher.py:3: SettingWithCopyWarning: \n",
      "A value is trying to be set on a copy of a slice from a DataFrame\n",
      "\n",
      "See the caveats in the documentation: https://pandas.pydata.org/pandas-docs/stable/user_guide/indexing.html#returning-a-view-versus-a-copy\n",
      "  This is separate from the ipykernel package so we can avoid doing imports until\n"
     ]
    }
   ],
   "source": [
    "df_ext = df_keep.copy()\n",
    "df_ext['is_valid'] = 1\n",
    "df_ext.is_valid[:n_trn] = 0\n",
    "y = df_ext.is_valid\n",
    "x = df_ext.drop('is_valid', axis = 1)"
   ]
  },
  {
   "cell_type": "markdown",
   "metadata": {},
   "source": [
    "Create a new column 'is_valid' and now we are training the RF model to predict whether we can predict a validation set. If our variables were not time dependent, then it would be tough to predict validation set."
   ]
  },
  {
   "cell_type": "code",
   "execution_count": 74,
   "metadata": {},
   "outputs": [
    {
     "data": {
      "text/plain": [
       "0.9998852264673226"
      ]
     },
     "execution_count": 74,
     "metadata": {},
     "output_type": "execute_result"
    }
   ],
   "source": [
    "m = RandomForestRegressor(n_estimators = 40, min_samples_leaf = 3, max_features = 0.5, n_jobs = -1, oob_score = True)\n",
    "m.fit(x,y)\n",
    "m.oob_score_"
   ]
  },
  {
   "cell_type": "markdown",
   "metadata": {},
   "source": [
    "We do not have a random set, since we can easily predict validation set"
   ]
  },
  {
   "cell_type": "code",
   "execution_count": 75,
   "metadata": {},
   "outputs": [
    {
     "data": {
      "text/html": [
       "<div>\n",
       "<style scoped>\n",
       "    .dataframe tbody tr th:only-of-type {\n",
       "        vertical-align: middle;\n",
       "    }\n",
       "\n",
       "    .dataframe tbody tr th {\n",
       "        vertical-align: top;\n",
       "    }\n",
       "\n",
       "    .dataframe thead th {\n",
       "        text-align: right;\n",
       "    }\n",
       "</style>\n",
       "<table border=\"1\" class=\"dataframe\">\n",
       "  <thead>\n",
       "    <tr style=\"text-align: right;\">\n",
       "      <th></th>\n",
       "      <th>cols</th>\n",
       "      <th>imp</th>\n",
       "    </tr>\n",
       "  </thead>\n",
       "  <tbody>\n",
       "    <tr>\n",
       "      <th>10</th>\n",
       "      <td>SalesID</td>\n",
       "      <td>0.733694</td>\n",
       "    </tr>\n",
       "    <tr>\n",
       "      <th>5</th>\n",
       "      <td>saleElapsed</td>\n",
       "      <td>0.156594</td>\n",
       "    </tr>\n",
       "    <tr>\n",
       "      <th>14</th>\n",
       "      <td>saleYear</td>\n",
       "      <td>0.048410</td>\n",
       "    </tr>\n",
       "    <tr>\n",
       "      <th>15</th>\n",
       "      <td>MachineID</td>\n",
       "      <td>0.040338</td>\n",
       "    </tr>\n",
       "    <tr>\n",
       "      <th>20</th>\n",
       "      <td>saleDayofyear</td>\n",
       "      <td>0.011150</td>\n",
       "    </tr>\n",
       "    <tr>\n",
       "      <th>8</th>\n",
       "      <td>fiModelDesc</td>\n",
       "      <td>0.002329</td>\n",
       "    </tr>\n",
       "    <tr>\n",
       "      <th>4</th>\n",
       "      <td>ModelID</td>\n",
       "      <td>0.002137</td>\n",
       "    </tr>\n",
       "    <tr>\n",
       "      <th>13</th>\n",
       "      <td>fiBaseModel</td>\n",
       "      <td>0.000984</td>\n",
       "    </tr>\n",
       "    <tr>\n",
       "      <th>6</th>\n",
       "      <td>fiSecondaryDesc</td>\n",
       "      <td>0.000882</td>\n",
       "    </tr>\n",
       "    <tr>\n",
       "      <th>0</th>\n",
       "      <td>YearMade</td>\n",
       "      <td>0.000745</td>\n",
       "    </tr>\n",
       "    <tr>\n",
       "      <th>16</th>\n",
       "      <td>Hydraulics</td>\n",
       "      <td>0.000626</td>\n",
       "    </tr>\n",
       "    <tr>\n",
       "      <th>19</th>\n",
       "      <td>saleDay</td>\n",
       "      <td>0.000618</td>\n",
       "    </tr>\n",
       "    <tr>\n",
       "      <th>7</th>\n",
       "      <td>Enclosure</td>\n",
       "      <td>0.000411</td>\n",
       "    </tr>\n",
       "    <tr>\n",
       "      <th>12</th>\n",
       "      <td>fiModelDescriptor</td>\n",
       "      <td>0.000217</td>\n",
       "    </tr>\n",
       "    <tr>\n",
       "      <th>24</th>\n",
       "      <td>age</td>\n",
       "      <td>0.000216</td>\n",
       "    </tr>\n",
       "    <tr>\n",
       "      <th>23</th>\n",
       "      <td>ProductGroup</td>\n",
       "      <td>0.000200</td>\n",
       "    </tr>\n",
       "    <tr>\n",
       "      <th>1</th>\n",
       "      <td>Coupler_System</td>\n",
       "      <td>0.000134</td>\n",
       "    </tr>\n",
       "    <tr>\n",
       "      <th>11</th>\n",
       "      <td>Hydraulics_Flow</td>\n",
       "      <td>0.000133</td>\n",
       "    </tr>\n",
       "    <tr>\n",
       "      <th>9</th>\n",
       "      <td>Grouser_Tracks</td>\n",
       "      <td>0.000077</td>\n",
       "    </tr>\n",
       "    <tr>\n",
       "      <th>18</th>\n",
       "      <td>state</td>\n",
       "      <td>0.000058</td>\n",
       "    </tr>\n",
       "    <tr>\n",
       "      <th>3</th>\n",
       "      <td>fiProductClassDesc</td>\n",
       "      <td>0.000024</td>\n",
       "    </tr>\n",
       "    <tr>\n",
       "      <th>2</th>\n",
       "      <td>ProductSize</td>\n",
       "      <td>0.000023</td>\n",
       "    </tr>\n",
       "    <tr>\n",
       "      <th>17</th>\n",
       "      <td>ProductGroupDesc</td>\n",
       "      <td>0.000000</td>\n",
       "    </tr>\n",
       "    <tr>\n",
       "      <th>21</th>\n",
       "      <td>Drive_System</td>\n",
       "      <td>0.000000</td>\n",
       "    </tr>\n",
       "    <tr>\n",
       "      <th>22</th>\n",
       "      <td>Tire_Size</td>\n",
       "      <td>0.000000</td>\n",
       "    </tr>\n",
       "  </tbody>\n",
       "</table>\n",
       "</div>"
      ],
      "text/plain": [
       "                  cols       imp\n",
       "10             SalesID  0.733694\n",
       "5          saleElapsed  0.156594\n",
       "14            saleYear  0.048410\n",
       "15           MachineID  0.040338\n",
       "20       saleDayofyear  0.011150\n",
       "8          fiModelDesc  0.002329\n",
       "4              ModelID  0.002137\n",
       "13         fiBaseModel  0.000984\n",
       "6      fiSecondaryDesc  0.000882\n",
       "0             YearMade  0.000745\n",
       "16          Hydraulics  0.000626\n",
       "19             saleDay  0.000618\n",
       "7            Enclosure  0.000411\n",
       "12   fiModelDescriptor  0.000217\n",
       "24                 age  0.000216\n",
       "23        ProductGroup  0.000200\n",
       "1       Coupler_System  0.000134\n",
       "11     Hydraulics_Flow  0.000133\n",
       "9       Grouser_Tracks  0.000077\n",
       "18               state  0.000058\n",
       "3   fiProductClassDesc  0.000024\n",
       "2          ProductSize  0.000023\n",
       "17    ProductGroupDesc  0.000000\n",
       "21        Drive_System  0.000000\n",
       "22           Tire_Size  0.000000"
      ]
     },
     "execution_count": 75,
     "metadata": {},
     "output_type": "execute_result"
    }
   ],
   "source": [
    "feat_imp_ext = pd.DataFrame({'cols' : x.columns, 'imp' : m.feature_importances_}).sort_values(by = 'imp', ascending = False)\n",
    "feat_imp_ext"
   ]
  },
  {
   "cell_type": "markdown",
   "metadata": {},
   "source": [
    "We can clearly see that SalesID, saleElapsed, and MachineID are at the top of being most important for predicting whether it is a validation set. Thus these are the variables that are time dependent. Maybe there is a structure to how SalesID is named and coded."
   ]
  },
  {
   "cell_type": "code",
   "execution_count": 95,
   "metadata": {},
   "outputs": [],
   "source": [
    "feats_time = ['SalesID', 'MachineID', 'saleElapsed', 'saleYear', 'saleDayofyear']"
   ]
  },
  {
   "cell_type": "code",
   "execution_count": 96,
   "metadata": {},
   "outputs": [
    {
     "data": {
      "text/html": [
       "<div>\n",
       "<style scoped>\n",
       "    .dataframe tbody tr th:only-of-type {\n",
       "        vertical-align: middle;\n",
       "    }\n",
       "\n",
       "    .dataframe tbody tr th {\n",
       "        vertical-align: top;\n",
       "    }\n",
       "\n",
       "    .dataframe thead th {\n",
       "        text-align: right;\n",
       "    }\n",
       "</style>\n",
       "<table border=\"1\" class=\"dataframe\">\n",
       "  <thead>\n",
       "    <tr style=\"text-align: right;\">\n",
       "      <th></th>\n",
       "      <th>SalesID</th>\n",
       "      <th>MachineID</th>\n",
       "      <th>saleElapsed</th>\n",
       "      <th>saleYear</th>\n",
       "      <th>saleDayofyear</th>\n",
       "    </tr>\n",
       "  </thead>\n",
       "  <tbody>\n",
       "    <tr>\n",
       "      <th>count</th>\n",
       "      <td>389125.000000</td>\n",
       "      <td>389125.000000</td>\n",
       "      <td>3.891250e+05</td>\n",
       "      <td>389125.000000</td>\n",
       "      <td>389125.000000</td>\n",
       "    </tr>\n",
       "    <tr>\n",
       "      <th>mean</th>\n",
       "      <td>1800.452485</td>\n",
       "      <td>1206.796148</td>\n",
       "      <td>1.084797e+15</td>\n",
       "      <td>2.003892</td>\n",
       "      <td>0.177640</td>\n",
       "    </tr>\n",
       "    <tr>\n",
       "      <th>std</th>\n",
       "      <td>595.627288</td>\n",
       "      <td>430.850552</td>\n",
       "      <td>1.803913e+14</td>\n",
       "      <td>0.005721</td>\n",
       "      <td>0.103249</td>\n",
       "    </tr>\n",
       "    <tr>\n",
       "      <th>min</th>\n",
       "      <td>1139.246000</td>\n",
       "      <td>0.000000</td>\n",
       "      <td>6.009984e+14</td>\n",
       "      <td>1.989000</td>\n",
       "      <td>0.002000</td>\n",
       "    </tr>\n",
       "    <tr>\n",
       "      <th>25%</th>\n",
       "      <td>1413.348000</td>\n",
       "      <td>1087.016000</td>\n",
       "      <td>9.666432e+14</td>\n",
       "      <td>2.000000</td>\n",
       "      <td>0.084000</td>\n",
       "    </tr>\n",
       "    <tr>\n",
       "      <th>50%</th>\n",
       "      <td>1632.093000</td>\n",
       "      <td>1273.859000</td>\n",
       "      <td>1.134605e+15</td>\n",
       "      <td>2.005000</td>\n",
       "      <td>0.166000</td>\n",
       "    </tr>\n",
       "    <tr>\n",
       "      <th>75%</th>\n",
       "      <td>2210.453000</td>\n",
       "      <td>1458.661000</td>\n",
       "      <td>1.234138e+15</td>\n",
       "      <td>2.009000</td>\n",
       "      <td>0.270000</td>\n",
       "    </tr>\n",
       "    <tr>\n",
       "      <th>max</th>\n",
       "      <td>4364.741000</td>\n",
       "      <td>2313.821000</td>\n",
       "      <td>1.325117e+15</td>\n",
       "      <td>2.011000</td>\n",
       "      <td>0.365000</td>\n",
       "    </tr>\n",
       "  </tbody>\n",
       "</table>\n",
       "</div>"
      ],
      "text/plain": [
       "             SalesID      MachineID   saleElapsed       saleYear  \\\n",
       "count  389125.000000  389125.000000  3.891250e+05  389125.000000   \n",
       "mean     1800.452485    1206.796148  1.084797e+15       2.003892   \n",
       "std       595.627288     430.850552  1.803913e+14       0.005721   \n",
       "min      1139.246000       0.000000  6.009984e+14       1.989000   \n",
       "25%      1413.348000    1087.016000  9.666432e+14       2.000000   \n",
       "50%      1632.093000    1273.859000  1.134605e+15       2.005000   \n",
       "75%      2210.453000    1458.661000  1.234138e+15       2.009000   \n",
       "max      4364.741000    2313.821000  1.325117e+15       2.011000   \n",
       "\n",
       "       saleDayofyear  \n",
       "count  389125.000000  \n",
       "mean        0.177640  \n",
       "std         0.103249  \n",
       "min         0.002000  \n",
       "25%         0.084000  \n",
       "50%         0.166000  \n",
       "75%         0.270000  \n",
       "max         0.365000  "
      ]
     },
     "execution_count": 96,
     "metadata": {},
     "output_type": "execute_result"
    }
   ],
   "source": [
    "(X_train[feats_time]/1000).describe()"
   ]
  },
  {
   "cell_type": "code",
   "execution_count": 97,
   "metadata": {},
   "outputs": [
    {
     "data": {
      "text/html": [
       "<div>\n",
       "<style scoped>\n",
       "    .dataframe tbody tr th:only-of-type {\n",
       "        vertical-align: middle;\n",
       "    }\n",
       "\n",
       "    .dataframe tbody tr th {\n",
       "        vertical-align: top;\n",
       "    }\n",
       "\n",
       "    .dataframe thead th {\n",
       "        text-align: right;\n",
       "    }\n",
       "</style>\n",
       "<table border=\"1\" class=\"dataframe\">\n",
       "  <thead>\n",
       "    <tr style=\"text-align: right;\">\n",
       "      <th></th>\n",
       "      <th>SalesID</th>\n",
       "      <th>MachineID</th>\n",
       "      <th>saleElapsed</th>\n",
       "      <th>saleYear</th>\n",
       "      <th>saleDayofyear</th>\n",
       "    </tr>\n",
       "  </thead>\n",
       "  <tbody>\n",
       "    <tr>\n",
       "      <th>count</th>\n",
       "      <td>12000.000000</td>\n",
       "      <td>12000.000000</td>\n",
       "      <td>1.200000e+04</td>\n",
       "      <td>12000.000000</td>\n",
       "      <td>12000.000000</td>\n",
       "    </tr>\n",
       "    <tr>\n",
       "      <th>mean</th>\n",
       "      <td>5786.967651</td>\n",
       "      <td>1578.049709</td>\n",
       "      <td>1.306609e+15</td>\n",
       "      <td>2.010707</td>\n",
       "      <td>0.255770</td>\n",
       "    </tr>\n",
       "    <tr>\n",
       "      <th>std</th>\n",
       "      <td>836.899608</td>\n",
       "      <td>589.497173</td>\n",
       "      <td>2.497808e+13</td>\n",
       "      <td>0.000667</td>\n",
       "      <td>0.082982</td>\n",
       "    </tr>\n",
       "    <tr>\n",
       "      <th>min</th>\n",
       "      <td>4364.751000</td>\n",
       "      <td>0.830000</td>\n",
       "      <td>1.174522e+15</td>\n",
       "      <td>2.007000</td>\n",
       "      <td>0.033000</td>\n",
       "    </tr>\n",
       "    <tr>\n",
       "      <th>25%</th>\n",
       "      <td>4408.580750</td>\n",
       "      <td>1271.225250</td>\n",
       "      <td>1.309219e+15</td>\n",
       "      <td>2.011000</td>\n",
       "      <td>0.207000</td>\n",
       "    </tr>\n",
       "    <tr>\n",
       "      <th>50%</th>\n",
       "      <td>6272.538500</td>\n",
       "      <td>1825.317000</td>\n",
       "      <td>1.316045e+15</td>\n",
       "      <td>2.011000</td>\n",
       "      <td>0.266000</td>\n",
       "    </tr>\n",
       "    <tr>\n",
       "      <th>75%</th>\n",
       "      <td>6291.792250</td>\n",
       "      <td>1907.858000</td>\n",
       "      <td>1.321402e+15</td>\n",
       "      <td>2.011000</td>\n",
       "      <td>0.335000</td>\n",
       "    </tr>\n",
       "    <tr>\n",
       "      <th>max</th>\n",
       "      <td>6333.342000</td>\n",
       "      <td>2486.330000</td>\n",
       "      <td>1.325203e+15</td>\n",
       "      <td>2.011000</td>\n",
       "      <td>0.364000</td>\n",
       "    </tr>\n",
       "  </tbody>\n",
       "</table>\n",
       "</div>"
      ],
      "text/plain": [
       "            SalesID     MachineID   saleElapsed      saleYear  saleDayofyear\n",
       "count  12000.000000  12000.000000  1.200000e+04  12000.000000   12000.000000\n",
       "mean    5786.967651   1578.049709  1.306609e+15      2.010707       0.255770\n",
       "std      836.899608    589.497173  2.497808e+13      0.000667       0.082982\n",
       "min     4364.751000      0.830000  1.174522e+15      2.007000       0.033000\n",
       "25%     4408.580750   1271.225250  1.309219e+15      2.011000       0.207000\n",
       "50%     6272.538500   1825.317000  1.316045e+15      2.011000       0.266000\n",
       "75%     6291.792250   1907.858000  1.321402e+15      2.011000       0.335000\n",
       "max     6333.342000   2486.330000  1.325203e+15      2.011000       0.364000"
      ]
     },
     "execution_count": 97,
     "metadata": {},
     "output_type": "execute_result"
    }
   ],
   "source": [
    "(X_valid[feats_time]/1000).describe()"
   ]
  },
  {
   "cell_type": "code",
   "execution_count": 100,
   "metadata": {},
   "outputs": [],
   "source": [
    "x.drop(feats_time, axis = 1, inplace = True)"
   ]
  },
  {
   "cell_type": "code",
   "execution_count": 101,
   "metadata": {},
   "outputs": [
    {
     "data": {
      "text/plain": [
       "0.3732297082808408"
      ]
     },
     "execution_count": 101,
     "metadata": {},
     "output_type": "execute_result"
    }
   ],
   "source": [
    "m = RandomForestRegressor(n_estimators = 40, min_samples_leaf = 3, max_features = 0.5, n_jobs = -1, oob_score = True)\n",
    "m.fit(x,y)\n",
    "m.oob_score_"
   ]
  },
  {
   "cell_type": "code",
   "execution_count": 102,
   "metadata": {},
   "outputs": [
    {
     "data": {
      "text/html": [
       "<div>\n",
       "<style scoped>\n",
       "    .dataframe tbody tr th:only-of-type {\n",
       "        vertical-align: middle;\n",
       "    }\n",
       "\n",
       "    .dataframe tbody tr th {\n",
       "        vertical-align: top;\n",
       "    }\n",
       "\n",
       "    .dataframe thead th {\n",
       "        text-align: right;\n",
       "    }\n",
       "</style>\n",
       "<table border=\"1\" class=\"dataframe\">\n",
       "  <thead>\n",
       "    <tr style=\"text-align: right;\">\n",
       "      <th></th>\n",
       "      <th>cols</th>\n",
       "      <th>imp</th>\n",
       "    </tr>\n",
       "  </thead>\n",
       "  <tbody>\n",
       "    <tr>\n",
       "      <th>19</th>\n",
       "      <td>age</td>\n",
       "      <td>0.171252</td>\n",
       "    </tr>\n",
       "    <tr>\n",
       "      <th>15</th>\n",
       "      <td>saleDay</td>\n",
       "      <td>0.152191</td>\n",
       "    </tr>\n",
       "    <tr>\n",
       "      <th>0</th>\n",
       "      <td>YearMade</td>\n",
       "      <td>0.143726</td>\n",
       "    </tr>\n",
       "    <tr>\n",
       "      <th>14</th>\n",
       "      <td>state</td>\n",
       "      <td>0.116295</td>\n",
       "    </tr>\n",
       "    <tr>\n",
       "      <th>4</th>\n",
       "      <td>ModelID</td>\n",
       "      <td>0.098244</td>\n",
       "    </tr>\n",
       "    <tr>\n",
       "      <th>7</th>\n",
       "      <td>fiModelDesc</td>\n",
       "      <td>0.061789</td>\n",
       "    </tr>\n",
       "    <tr>\n",
       "      <th>11</th>\n",
       "      <td>fiBaseModel</td>\n",
       "      <td>0.050796</td>\n",
       "    </tr>\n",
       "    <tr>\n",
       "      <th>3</th>\n",
       "      <td>fiProductClassDesc</td>\n",
       "      <td>0.040362</td>\n",
       "    </tr>\n",
       "    <tr>\n",
       "      <th>6</th>\n",
       "      <td>Enclosure</td>\n",
       "      <td>0.030283</td>\n",
       "    </tr>\n",
       "    <tr>\n",
       "      <th>5</th>\n",
       "      <td>fiSecondaryDesc</td>\n",
       "      <td>0.026411</td>\n",
       "    </tr>\n",
       "    <tr>\n",
       "      <th>12</th>\n",
       "      <td>Hydraulics</td>\n",
       "      <td>0.026242</td>\n",
       "    </tr>\n",
       "    <tr>\n",
       "      <th>17</th>\n",
       "      <td>Tire_Size</td>\n",
       "      <td>0.013916</td>\n",
       "    </tr>\n",
       "    <tr>\n",
       "      <th>2</th>\n",
       "      <td>ProductSize</td>\n",
       "      <td>0.013131</td>\n",
       "    </tr>\n",
       "    <tr>\n",
       "      <th>1</th>\n",
       "      <td>Coupler_System</td>\n",
       "      <td>0.013090</td>\n",
       "    </tr>\n",
       "    <tr>\n",
       "      <th>10</th>\n",
       "      <td>fiModelDescriptor</td>\n",
       "      <td>0.011531</td>\n",
       "    </tr>\n",
       "    <tr>\n",
       "      <th>16</th>\n",
       "      <td>Drive_System</td>\n",
       "      <td>0.010592</td>\n",
       "    </tr>\n",
       "    <tr>\n",
       "      <th>9</th>\n",
       "      <td>Hydraulics_Flow</td>\n",
       "      <td>0.006143</td>\n",
       "    </tr>\n",
       "    <tr>\n",
       "      <th>8</th>\n",
       "      <td>Grouser_Tracks</td>\n",
       "      <td>0.005726</td>\n",
       "    </tr>\n",
       "    <tr>\n",
       "      <th>13</th>\n",
       "      <td>ProductGroupDesc</td>\n",
       "      <td>0.004260</td>\n",
       "    </tr>\n",
       "    <tr>\n",
       "      <th>18</th>\n",
       "      <td>ProductGroup</td>\n",
       "      <td>0.004021</td>\n",
       "    </tr>\n",
       "  </tbody>\n",
       "</table>\n",
       "</div>"
      ],
      "text/plain": [
       "                  cols       imp\n",
       "19                 age  0.171252\n",
       "15             saleDay  0.152191\n",
       "0             YearMade  0.143726\n",
       "14               state  0.116295\n",
       "4              ModelID  0.098244\n",
       "7          fiModelDesc  0.061789\n",
       "11         fiBaseModel  0.050796\n",
       "3   fiProductClassDesc  0.040362\n",
       "6            Enclosure  0.030283\n",
       "5      fiSecondaryDesc  0.026411\n",
       "12          Hydraulics  0.026242\n",
       "17           Tire_Size  0.013916\n",
       "2          ProductSize  0.013131\n",
       "1       Coupler_System  0.013090\n",
       "10   fiModelDescriptor  0.011531\n",
       "16        Drive_System  0.010592\n",
       "9      Hydraulics_Flow  0.006143\n",
       "8       Grouser_Tracks  0.005726\n",
       "13    ProductGroupDesc  0.004260\n",
       "18        ProductGroup  0.004021"
      ]
     },
     "execution_count": 102,
     "metadata": {},
     "output_type": "execute_result"
    }
   ],
   "source": [
    "feat_imp_ext = pd.DataFrame({'cols' : x.columns, 'imp' : m.feature_importances_}).sort_values(by = 'imp', ascending = False)\n",
    "feat_imp_ext"
   ]
  },
  {
   "cell_type": "code",
   "execution_count": 108,
   "metadata": {},
   "outputs": [],
   "source": [
    "set_rf_samples(50000)"
   ]
  },
  {
   "cell_type": "code",
   "execution_count": 109,
   "metadata": {},
   "outputs": [],
   "source": [
    "feats = ['SalesID', 'saleElapsed', 'MachineID', 'age', 'YearMade', 'saleDayofyear']"
   ]
  },
  {
   "cell_type": "markdown",
   "metadata": {},
   "source": [
    "these are all time dependent variables - let's see what happens to our validation score if we removed one of them"
   ]
  },
  {
   "cell_type": "code",
   "execution_count": 110,
   "metadata": {},
   "outputs": [
    {
     "name": "stdout",
     "output_type": "stream",
     "text": [
      "[0.12208194955230736, 0.22599500142129383, 0.9688514569190364, 0.9087893310382884]\n"
     ]
    }
   ],
   "source": [
    "rf_m = RandomForestRegressor(n_estimators = 70, min_samples_leaf = 3, max_features = 0.7, n_jobs = -1)\n",
    "rf_m.fit(X_train, y_train)\n",
    "print_score(rf_m)"
   ]
  },
  {
   "cell_type": "markdown",
   "metadata": {},
   "source": [
    "<b>The goal now is to find a set of generalizable across time predictors</b>"
   ]
  },
  {
   "cell_type": "code",
   "execution_count": 111,
   "metadata": {},
   "outputs": [
    {
     "name": "stdout",
     "output_type": "stream",
     "text": [
      "SalesID\n",
      "[0.1226466832512844, 0.21994919946625296, 0.9685626129434164, 0.9136041771529001]\n",
      "saleElapsed\n",
      "[0.12204694206831028, 0.22588412750973574, 0.968869318294687, 0.9088788056096074]\n",
      "MachineID\n",
      "[0.12246765678442827, 0.22042061002133131, 0.9686543238077779, 0.9132334411070037]\n",
      "age\n",
      "[0.11952971647318933, 0.2239852206242749, 0.9701402199195557, 0.9104043963593352]\n",
      "YearMade\n",
      "[0.11980578397472268, 0.22500203822089382, 0.9700021315083344, 0.909589082088067]\n",
      "saleDayofyear\n",
      "[0.12253467040480046, 0.22360587055637493, 0.9686200100629953, 0.9107076245495557]\n"
     ]
    }
   ],
   "source": [
    "for f in feats:\n",
    "    df_subs = df_keep.drop(f, axis = 1)\n",
    "    X_train, X_valid = split_vals(df_subs, n_trn)\n",
    "    m = RandomForestRegressor(n_estimators = 70, min_samples_leaf = 3, max_features = 0.7, n_jobs = -1)\n",
    "    m.fit(X_train, y_train)\n",
    "    print(f)\n",
    "    print_score(m)"
   ]
  },
  {
   "cell_type": "markdown",
   "metadata": {},
   "source": [
    "We see that excluding SalesID, MachineID and saleDayofyear - the validation score has gone up. Additionally, they were not that important when we performed our feature importance when predicting SalePrice. Thus we will exclude these variables from our final model."
   ]
  },
  {
   "cell_type": "code",
   "execution_count": 112,
   "metadata": {},
   "outputs": [],
   "source": [
    "reset_rf_samples()"
   ]
  },
  {
   "cell_type": "code",
   "execution_count": 113,
   "metadata": {},
   "outputs": [
    {
     "name": "stdout",
     "output_type": "stream",
     "text": [
      "[0.13119356945210955, 0.21603873008447627, 0.9640283861488537, 0.9166489249831159, 0.9116506801261179]\n"
     ]
    }
   ],
   "source": [
    "df_subs = df_keep.drop(['SalesID', 'MachineID', 'saleDayofyear'], axis = 1)\n",
    "X_train, X_valid = split_vals(df_subs, n_trn)\n",
    "m = RandomForestRegressor(n_estimators = 70, min_samples_leaf = 3, max_features = 0.7, n_jobs = -1, oob_score = True)\n",
    "m.fit(X_train, y_train)\n",
    "print_score(m)"
   ]
  },
  {
   "cell_type": "code",
   "execution_count": 114,
   "metadata": {},
   "outputs": [
    {
     "data": {
      "image/png": "[encoded data removed]",
      "text/plain": [
       "<Figure size 720x432 with 1 Axes>"
      ]
     },
     "metadata": {
      "needs_background": "light"
     },
     "output_type": "display_data"
    }
   ],
   "source": [
    "feat_imp_f = pd.DataFrame({'cols' : X_train.columns, 'imp' : m.feature_importances_}).sort_values(by = 'imp', ascending = False)\n",
    "feat_imp_f.plot('cols', 'imp', 'barh', legend = False, figsize=(10,6));"
   ]
  },
  {
   "cell_type": "code",
   "execution_count": 115,
   "metadata": {},
   "outputs": [],
   "source": [
    "np.save('tmp/subs_cols.np', np.array(df_subs.columns))"
   ]
  },
  {
   "cell_type": "markdown",
   "metadata": {},
   "source": [
    "# Final Model!"
   ]
  },
  {
   "cell_type": "code",
   "execution_count": 116,
   "metadata": {},
   "outputs": [
    {
     "name": "stdout",
     "output_type": "stream",
     "text": [
      "[0.08022456280165742, 0.21072480135253868, 0.9865491557449062, 0.9206988874627023, 0.9144943969645489]\n"
     ]
    }
   ],
   "source": [
    "rf_final = RandomForestRegressor(n_estimators = 160, max_features = 0.7, n_jobs = -1, oob_score = True)\n",
    "rf_final.fit(X_train, y_train)\n",
    "print_score(rf_final)"
   ]
  },
  {
   "cell_type": "code",
   "execution_count": null,
   "metadata": {},
   "outputs": [],
   "source": []
  }
 ],
 "metadata": {
  "kernelspec": {
   "display_name": "Python 3",
   "language": "python",
   "name": "python3"
  },
  "language_info": {
   "codemirror_mode": {
    "name": "ipython",
    "version": 3
   },
   "file_extension": ".py",
   "mimetype": "text/x-python",
   "name": "python",
   "nbconvert_exporter": "python",
   "pygments_lexer": "ipython3",
   "version": "3.7.6"
  }
 },
 "nbformat": 4,
 "nbformat_minor": 4
}
