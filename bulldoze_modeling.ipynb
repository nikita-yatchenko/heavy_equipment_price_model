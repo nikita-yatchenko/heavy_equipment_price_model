{
 "cells": [
  {
   "cell_type": "code",
   "execution_count": 1,
   "metadata": {},
   "outputs": [],
   "source": [
    "from fastai.imports import *\n",
    "import fastai\n",
    "\n",
    "from sklearn.ensemble import RandomForestRegressor, RandomForestClassifier\n",
    "from IPython.display import display\n",
    "import IPython\n",
    "\n",
    "from sklearn import metrics\n",
    "import os\n"
   ]
  },
  {
   "cell_type": "code",
   "execution_count": 96,
   "metadata": {},
   "outputs": [],
   "source": [
    "PATH = \"Bulldoze Data/\"\n",
    "df_raw = pd.read_csv(f'{PATH}Train.csv', parse_dates=[\"saledate\"], low_memory=False)\n",
    "df_raw.SalePrice = np.log(df_raw.SalePrice)"
   ]
  },
  {
   "cell_type": "markdown",
   "metadata": {},
   "source": [
    "# Data Processing"
   ]
  },
  {
   "cell_type": "code",
   "execution_count": 97,
   "metadata": {},
   "outputs": [
    {
     "data": {
      "text/plain": [
       "Backhoe_Mounting            0.803872\n",
       "Blade_Extension             0.937129\n",
       "Blade_Type                  0.800977\n",
       "Blade_Width                 0.937129\n",
       "Coupler                     0.466620\n",
       "Coupler_System              0.891660\n",
       "Differential_Type           0.826959\n",
       "Drive_System                0.739829\n",
       "Enclosure                   0.000810\n",
       "Enclosure_Type              0.937129\n",
       "Engine_Horsepower           0.937129\n",
       "Forks                       0.521154\n",
       "Grouser_Tracks              0.891899\n",
       "Grouser_Type                0.752813\n",
       "Hydraulics                  0.200823\n",
       "Hydraulics_Flow             0.891899\n",
       "MachineHoursCurrentMeter    0.644089\n",
       "MachineID                   0.000000\n",
       "ModelID                     0.000000\n",
       "Pad_Type                    0.802720\n",
       "Pattern_Changer             0.752651\n",
       "ProductGroup                0.000000\n",
       "ProductGroupDesc            0.000000\n",
       "ProductSize                 0.525460\n",
       "Pushblock                   0.937129\n",
       "Ride_Control                0.629527\n",
       "Ripper                      0.740388\n",
       "SalePrice                   0.000000\n",
       "SalesID                     0.000000\n",
       "Scarifier                   0.937102\n",
       "Steering_Controls           0.827064\n",
       "Stick                       0.802720\n",
       "Stick_Length                0.752651\n",
       "Thumb                       0.752476\n",
       "Tip_Control                 0.937129\n",
       "Tire_Size                   0.763869\n",
       "Track_Type                  0.752813\n",
       "Transmission                0.543210\n",
       "Travel_Controls             0.800975\n",
       "Turbocharged                0.802720\n",
       "Undercarriage_Pad_Width     0.751020\n",
       "UsageBand                   0.826391\n",
       "YearMade                    0.000000\n",
       "auctioneerID                0.050199\n",
       "datasource                  0.000000\n",
       "fiBaseModel                 0.000000\n",
       "fiModelDesc                 0.000000\n",
       "fiModelDescriptor           0.820707\n",
       "fiModelSeries               0.858129\n",
       "fiProductClassDesc          0.000000\n",
       "fiSecondaryDesc             0.342016\n",
       "saledate                    0.000000\n",
       "state                       0.000000\n",
       "dtype: float64"
      ]
     },
     "execution_count": 97,
     "metadata": {},
     "output_type": "execute_result"
    }
   ],
   "source": [
    "# Cleaning Data\n",
    "import pandas.api.types as ptypes\n",
    "\n",
    "for n, c in df_raw.items():\n",
    "    if ptypes.is_string_dtype(c): df_raw[n] = c.astype('category').cat.as_ordered()\n",
    "\n",
    "df_raw.UsageBand.cat.set_categories(['High', 'Medium', 'Low'], ordered = True, inplace=True)\n",
    "df_raw.isnull().sum().sort_index()/len(df_raw)"
   ]
  },
  {
   "cell_type": "code",
   "execution_count": 98,
   "metadata": {},
   "outputs": [],
   "source": [
    "# Transforming datetime column\n",
    "prefix = 'sale'\n",
    "attr = ['Year', 'Month', 'Week', 'Day', 'Dayofweek', 'Dayofyear', 'Is_month_end', 'Is_month_start', \n",
    "            'Is_quarter_end', 'Is_quarter_start', 'Is_year_end', 'Is_year_start']\n",
    "df_raw.saledate = pd.to_datetime(df_raw.saledate, infer_datetime_format=True)\n",
    "#df_raw.sort_values(by='saledate', inplace=True)\n",
    "#df_raw.reset_index(inplace=True)\n",
    "for i in attr:\n",
    "    df_raw[prefix+i] = getattr(df_raw.saledate.dt, i.lower())\n",
    "df_raw[prefix+'Elapsed'] = pd.to_datetime(df_raw.saledate, infer_datetime_format=True).astype(np.int64)\n",
    "df_raw.drop('saledate', axis = 1, inplace = True)"
   ]
  },
  {
   "cell_type": "code",
   "execution_count": 99,
   "metadata": {},
   "outputs": [],
   "source": [
    "# to save fast\n",
    "os.makedirs('tmp', exist_ok = True)\n",
    "df_raw.to_feather('tmp/raw')"
   ]
  },
  {
   "cell_type": "code",
   "execution_count": 100,
   "metadata": {},
   "outputs": [],
   "source": [
    "# to read fast\n",
    "df_raw = pd.read_feather('tmp/raw')"
   ]
  },
  {
   "cell_type": "code",
   "execution_count": 270,
   "metadata": {},
   "outputs": [
    {
     "data": {
      "text/plain": [
       "Backhoe_Mounting            0.803872\n",
       "Blade_Extension             0.937129\n",
       "Blade_Type                  0.800977\n",
       "Blade_Width                 0.937129\n",
       "Coupler                     0.466620\n",
       "Coupler_System              0.891660\n",
       "Differential_Type           0.826959\n",
       "Drive_System                0.739829\n",
       "Enclosure                   0.000810\n",
       "Enclosure_Type              0.937129\n",
       "Engine_Horsepower           0.937129\n",
       "Forks                       0.521154\n",
       "Grouser_Tracks              0.891899\n",
       "Grouser_Type                0.752813\n",
       "Hydraulics                  0.200823\n",
       "Hydraulics_Flow             0.891899\n",
       "MachineHoursCurrentMeter    0.644089\n",
       "MachineID                   0.000000\n",
       "ModelID                     0.000000\n",
       "Pad_Type                    0.802720\n",
       "Pattern_Changer             0.752651\n",
       "ProductGroup                0.000000\n",
       "ProductGroupDesc            0.000000\n",
       "ProductSize                 0.525460\n",
       "Pushblock                   0.937129\n",
       "Ride_Control                0.629527\n",
       "Ripper                      0.740388\n",
       "SalePrice                   0.000000\n",
       "SalesID                     0.000000\n",
       "Scarifier                   0.937102\n",
       "Steering_Controls           0.827064\n",
       "Stick                       0.802720\n",
       "Stick_Length                0.752651\n",
       "Thumb                       0.752476\n",
       "Tip_Control                 0.937129\n",
       "Tire_Size                   0.763869\n",
       "Track_Type                  0.752813\n",
       "Transmission                0.543210\n",
       "Travel_Controls             0.800975\n",
       "Turbocharged                0.802720\n",
       "Undercarriage_Pad_Width     0.751020\n",
       "UsageBand                   0.826391\n",
       "YearMade                    0.000000\n",
       "auctioneerID                0.050199\n",
       "datasource                  0.000000\n",
       "fiBaseModel                 0.000000\n",
       "fiModelDesc                 0.000000\n",
       "fiModelDescriptor           0.820707\n",
       "fiModelSeries               0.858129\n",
       "fiProductClassDesc          0.000000\n",
       "fiSecondaryDesc             0.342016\n",
       "saleDay                     0.000000\n",
       "saleDayofweek               0.000000\n",
       "saleDayofyear               0.000000\n",
       "saleElapsed                 0.000000\n",
       "saleIs_month_end            0.000000\n",
       "saleIs_month_start          0.000000\n",
       "saleIs_quarter_end          0.000000\n",
       "saleIs_quarter_start        0.000000\n",
       "saleIs_year_end             0.000000\n",
       "saleIs_year_start           0.000000\n",
       "saleMonth                   0.000000\n",
       "saleWeek                    0.000000\n",
       "saleYear                    0.000000\n",
       "state                       0.000000\n",
       "dtype: float64"
      ]
     },
     "metadata": {},
     "output_type": "display_data"
    }
   ],
   "source": [
    "def display_all(df):\n",
    "    with pd.option_context(\"display.max_rows\", 1000, \"display.max_columns\", 1000): \n",
    "        display(df)\n",
    "display_all(df_raw.isnull().sum().sort_index()/len(df_raw))"
   ]
  },
  {
   "cell_type": "markdown",
   "metadata": {},
   "source": [
    "## Major processing \n",
    "Replace strings with numeric codes, handle missing values, and split the dependent variable into a separate variable"
   ]
  },
  {
   "cell_type": "code",
   "execution_count": 233,
   "metadata": {},
   "outputs": [],
   "source": [
    "df_bull = df_raw.copy()\n",
    "\n",
    "# Splitting dependent variable\n",
    "#y = df.SalePrice\n",
    "#df.drop('SalePrice', axis = 1, inplace = True)\n",
    "\n",
    "# Fixing continuous missing values and numeric codes (-1 to 0)\n",
    "import pandas.api.types as ptypes\n",
    "for n,c in df_bull.items():\n",
    "    if ptypes.is_numeric_dtype(c):\n",
    "        if pd.isnull(c).sum(): \n",
    "            df_bull[n+'_na'] = pd.isnull(c)\n",
    "            df_bull[n] = c.fillna(c.median())\n",
    "    if not ptypes.is_numeric_dtype(c):\n",
    "        df_bull[n] = c.cat.codes+1"
   ]
  },
  {
   "cell_type": "code",
   "execution_count": 263,
   "metadata": {},
   "outputs": [
    {
     "data": {
      "text/plain": [
       "RandomForestRegressor(bootstrap=True, ccp_alpha=0.0, criterion='mse',\n",
       "                      max_depth=None, max_features='auto', max_leaf_nodes=None,\n",
       "                      max_samples=None, min_impurity_decrease=0.0,\n",
       "                      min_impurity_split=None, min_samples_leaf=1,\n",
       "                      min_samples_split=2, min_weight_fraction_leaf=0.0,\n",
       "                      n_estimators=100, n_jobs=-1, oob_score=False,\n",
       "                      random_state=None, verbose=0, warm_start=False)"
      ]
     },
     "execution_count": 263,
     "metadata": {},
     "output_type": "execute_result"
    }
   ],
   "source": [
    "rf_full = RandomForestRegressor(n_jobs = -1)\n",
    "y = df_bull.SalePrice\n",
    "rf_full.fit(df_bull.drop('SalePrice', axis = 1), y)"
   ]
  },
  {
   "cell_type": "code",
   "execution_count": 234,
   "metadata": {},
   "outputs": [
    {
     "data": {
      "text/plain": [
       "(401125, 67)"
      ]
     },
     "execution_count": 234,
     "metadata": {},
     "output_type": "execute_result"
    }
   ],
   "source": [
    "df_bull.shape"
   ]
  },
  {
   "cell_type": "markdown",
   "metadata": {},
   "source": [
    "Even though the R^2 score is high, we may have an issue with overfitting. Additionally, it takes a long time to complete training for the above formula, so we are going to train on the subset of data for tuning."
   ]
  },
  {
   "cell_type": "markdown",
   "metadata": {},
   "source": [
    "# Validation Sets\n",
    "Validation sets ensure that the model generalizes well beyond training sets. We are trying to predict prices in the future, so we are going to write up a validation split function that trains on past data and validates on the latest from train.csv"
   ]
  },
  {
   "cell_type": "code",
   "execution_count": 235,
   "metadata": {},
   "outputs": [
    {
     "data": {
      "text/plain": [
       "((389125, 66), (389125,), (12000, 66), (12000,))"
      ]
     },
     "execution_count": 235,
     "metadata": {},
     "output_type": "execute_result"
    }
   ],
   "source": [
    "def split_vals(a, n): return a[:n].copy(), a[n:].copy()\n",
    "\n",
    "n_valid = 12000 # same as Kaggle's test set size\n",
    "n_trn = len(df_bull) - n_valid\n",
    "raw_train, raw_valid = split_vals(df_raw, n_trn)\n",
    "X_train_big, X_valid = split_vals(df_bull, n_trn)\n",
    "y_train_big, y_valid = X_train_big.SalePrice, X_valid.SalePrice\n",
    "\n",
    "y_train_big = np.array(y_train_big)\n",
    "y_valid = np.array(y_valid)\n",
    "\n",
    "X_train_big.drop('SalePrice', axis = 1, inplace = True)\n",
    "X_valid.drop('SalePrice', axis = 1, inplace = True)\n",
    "\n",
    "X_train_big.shape, y_train_big.shape, X_valid.shape, y_valid.shape"
   ]
  },
  {
   "cell_type": "code",
   "execution_count": 236,
   "metadata": {},
   "outputs": [],
   "source": [
    "import math\n",
    "def rmse(predicted, true_vals): return math.sqrt(((predicted-true_vals)**2).mean())\n",
    "\n",
    "def print_score(m):\n",
    "    res = [rmse(m.predict(X_train), y_train), rmse(m.predict(X_valid), y_valid),\n",
    "                m.score(X_train, y_train), m.score(X_valid, y_valid)]\n",
    "    if hasattr(m, 'oob_score_'): res.append(m.oob_score_)\n",
    "    print(res)"
   ]
  },
  {
   "cell_type": "code",
   "execution_count": 115,
   "metadata": {},
   "outputs": [
    {
     "name": "stdout",
     "output_type": "stream",
     "text": [
      "[0.07338151339241195, 0.234597809890476, 0.9882751848449969, 0.9017130449392424]\n"
     ]
    }
   ],
   "source": [
    "m = RandomForestRegressor(n_jobs = -1)\n",
    "m.fit(X_train_big, y_train_big)\n",
    "print_score(m)"
   ]
  },
  {
   "cell_type": "markdown",
   "metadata": {},
   "source": [
    "This is really high! We get 90% accuracy for the validation set with all the default parameters of the RF model. Now, we would want to tune the model up to get it even more accurate, but first we need to speed things up."
   ]
  },
  {
   "cell_type": "markdown",
   "metadata": {},
   "source": [
    "## Speeding training up\n",
    "We are going to subset train dataframe to speed up training of complex models faster and find optimal parameters"
   ]
  },
  {
   "cell_type": "code",
   "execution_count": 256,
   "metadata": {},
   "outputs": [
    {
     "data": {
      "text/plain": [
       "(20000, 66)"
      ]
     },
     "execution_count": 256,
     "metadata": {},
     "output_type": "execute_result"
    }
   ],
   "source": [
    "def get_sample(df,n):\n",
    "    idxs = sorted(np.random.permutation(len(df))[:n])\n",
    "    return df.iloc[idxs].copy()\n",
    "\n",
    "df_trn = get_sample(df_bull, n=30000)\n",
    "y_trn = df_trn.SalePrice\n",
    "\n",
    "X_train, _ = split_vals(df_trn, 20000)\n",
    "y_train = X_train.SalePrice\n",
    "\n",
    "X_train.drop('SalePrice', axis = 1, inplace = True)\n",
    "X_train.shape"
   ]
  },
  {
   "cell_type": "code",
   "execution_count": 265,
   "metadata": {},
   "outputs": [
    {
     "name": "stdout",
     "output_type": "stream",
     "text": [
      "[0.09205885899655694, 0.35401280275898084, 0.9816010960670577, 0.7761866896194721]\n"
     ]
    }
   ],
   "source": [
    "rf = RandomForestRegressor(n_jobs = -1)\n",
    "rf.fit(X_train, y_train)\n",
    "print_score(rf)"
   ]
  },
  {
   "cell_type": "markdown",
   "metadata": {},
   "source": [
    "Before we jump into hyperparameter tuning, let's visualize single decision tree to better understand what is happening in the random forest"
   ]
  },
  {
   "cell_type": "markdown",
   "metadata": {},
   "source": [
    "# Single Tree\n",
    "Let's first focus on a single tree and tune random forest from there. Best splits are combinations of variables and splits such that the resulting dependent variable groups are as different from each other as possible. For each variable for each possible value of that variable we see whether the split is better than the other variables' splits based on the weighted average of the RMSE."
   ]
  },
  {
   "cell_type": "code",
   "execution_count": 238,
   "metadata": {},
   "outputs": [
    {
     "name": "stdout",
     "output_type": "stream",
     "text": [
      "[0.5167844627684836, 0.5818496564607561, 0.41378807762988956, 0.39539805709497056]\n"
     ]
    }
   ],
   "source": [
    "rf_1 = RandomForestRegressor(n_estimators = 1, max_depth = 3, bootstrap = False, n_jobs = -1)\n",
    "rf_1.fit(X_train, y_train)\n",
    "print_score(rf_1)"
   ]
  },
  {
   "cell_type": "code",
   "execution_count": null,
   "metadata": {},
   "outputs": [],
   "source": [
    "# Load libraries\n",
    "\n",
    "from IPython.display import Image  \n",
    "from sklearn import tree\n",
    "import pydotplus\n",
    "\n",
    "# Create DOT data\n",
    "dot_data = tree.export_graphviz(rf.estimators_[0], out_file=None, \n",
    "                                feature_names=X_train.columns)\n",
    "\n",
    "# Draw graph\n",
    "graph = pydotplus.graph_from_dot_data(dot_data)  \n",
    "\n",
    "# Show graph\n",
    "Image(graph.create_png())"
   ]
  },
  {
   "cell_type": "code",
   "execution_count": 250,
   "metadata": {},
   "outputs": [
    {
     "name": "stdout",
     "output_type": "stream",
     "text": [
      "[6.879800455918813e-17, 0.5086849896629092, 1.0, 0.5378895185121731]\n"
     ]
    }
   ],
   "source": [
    "rf_1d = RandomForestRegressor(n_estimators = 1, bootstrap = False, n_jobs = -1)\n",
    "rf_1d.fit(X_train, y_train)\n",
    "print_score(rf_1d)"
   ]
  },
  {
   "cell_type": "markdown",
   "metadata": {},
   "source": [
    "# Random Forests\n",
    "Random Forests is a way of bagging regular decision trees! So, let us first understand bagging."
   ]
  },
  {
   "cell_type": "markdown",
   "metadata": {},
   "source": [
    "## Bagging\n",
    "You can bag any kind of model. Bagging - what if we created 5 different model, which are weak individually, but the models weren't predicted with each other - 5 models would have found different insights, so if you took the average - you are brining insights from each model. That is an example of an ensemble. Each has random UNCORRELATED errors - and when we average we get error of 0! Picks out rows to train each model on with replacement - so could be double. Impotant to create uncorrelted trees than accuracte trees for RF"
   ]
  },
  {
   "cell_type": "code",
   "execution_count": 275,
   "metadata": {},
   "outputs": [
    {
     "name": "stdout",
     "output_type": "stream",
     "text": [
      "CPU times: user 36.7 s, sys: 264 ms, total: 37 s\n",
      "Wall time: 10.2 s\n",
      "[0.09345387548582301, 0.35373067077453696, 0.9810642030154719, 0.7765432853759939]\n"
     ]
    }
   ],
   "source": [
    "np.random.seed(1234)\n",
    "m = RandomForestRegressor(n_jobs=-1, n_estimators = 100)\n",
    "%time m.fit(X_train, y_train)\n",
    "print_score(m)"
   ]
  },
  {
   "cell_type": "code",
   "execution_count": 276,
   "metadata": {},
   "outputs": [
    {
     "data": {
      "text/plain": [
       "(array([9.85219426, 9.25913054, 8.98719682, 9.85219426, 9.21034037,\n",
       "        9.680344  , 9.10497986, 9.04782144, 9.15904708, 9.82552601,\n",
       "        9.18502256, 9.82552601, 9.10497986, 9.25913054, 8.98719682,\n",
       "        8.98719682, 9.85219426, 8.98719682, 9.85219426, 9.39266193,\n",
       "        9.21034037, 9.82552601, 9.58190393, 9.25913054, 9.39266193,\n",
       "        9.15904708, 8.9226583 , 8.98719682, 9.15904708, 9.04782144,\n",
       "        9.21034037, 9.10497986, 9.21034037, 9.35010231, 9.39266193,\n",
       "        9.04782144, 8.9226583 , 9.39266193, 9.54681261, 9.25913054,\n",
       "        9.54681261, 9.85219426, 8.98719682, 9.85219426, 9.30565055,\n",
       "        8.98719682, 9.85219426, 9.85219426, 9.30565055, 9.85219426,\n",
       "        9.04782144, 9.85219426, 8.98719682, 9.82552601, 9.15904708,\n",
       "        9.18502256, 9.85219426, 9.30565055, 9.85219426, 9.82552601,\n",
       "        9.85219426, 9.85219426, 9.85219426, 9.82552601, 8.98719682,\n",
       "        9.10497986, 9.82552601, 9.82552601, 9.85219426, 9.25913054,\n",
       "        9.85219426, 9.85219426, 9.35010231, 9.10497986, 9.51044496,\n",
       "        9.18502256, 9.47270464, 9.85219426, 8.98719682, 8.98719682,\n",
       "        8.98719682, 8.9226583 , 9.21034037, 9.04782144, 9.85219426,\n",
       "        9.85219426, 9.04782144, 9.04782144, 9.82552601, 9.04782144,\n",
       "        9.39266193, 9.61580548, 9.18502256, 9.85219426, 9.04782144,\n",
       "        9.15904708, 9.47270464, 9.21034037, 9.85219426, 9.85219426]),\n",
       " 9.405530446541922,\n",
       " 9.104979856318357)"
      ]
     },
     "execution_count": 276,
     "metadata": {},
     "output_type": "execute_result"
    }
   ],
   "source": [
    "preds = np.stack([t.predict(X_valid) for t in m.estimators_])\n",
    "(preds[:,0], np.mean(preds[:,0]), list(y_valid)[0])"
   ]
  },
  {
   "cell_type": "markdown",
   "metadata": {},
   "source": [
    "We can see that individually decision trees are doing an OK job at predicting individual data points from the validation set. However, when we average out predictions of all decision trees we get a relatively close result."
   ]
  },
  {
   "cell_type": "code",
   "execution_count": 277,
   "metadata": {},
   "outputs": [
    {
     "data": {
      "image/png": "[encoded data removed]",
      "text/plain": [
       "<Figure size 432x288 with 1 Axes>"
      ]
     },
     "metadata": {
      "needs_background": "light"
     },
     "output_type": "display_data"
    }
   ],
   "source": [
    "plt.plot([metrics.r2_score(y_valid, np.mean(preds[:i+1], axis=0)) for i in range(50)]);"
   ]
  },
  {
   "cell_type": "markdown",
   "metadata": {},
   "source": [
    "The shape of this curve suggests that adding more trees isn't going to help us much. Let's check. (Compare this to our original model on a sample)"
   ]
  },
  {
   "cell_type": "code",
   "execution_count": 244,
   "metadata": {},
   "outputs": [
    {
     "name": "stdout",
     "output_type": "stream",
     "text": [
      "[0.10305868321180377, 0.3576565728122834, 0.9766866368280356, 0.7715556636760061]\n"
     ]
    }
   ],
   "source": [
    "m = RandomForestRegressor(n_estimators=20, n_jobs=-1)\n",
    "m.fit(X_train, y_train)\n",
    "print_score(m)"
   ]
  },
  {
   "cell_type": "code",
   "execution_count": 245,
   "metadata": {},
   "outputs": [
    {
     "name": "stdout",
     "output_type": "stream",
     "text": [
      "[0.0997376738742977, 0.3557822906705682, 0.97816494846915, 0.7739436932690522]\n"
     ]
    }
   ],
   "source": [
    "m = RandomForestRegressor(n_estimators=30, n_jobs=-1)\n",
    "m.fit(X_train, y_train)\n",
    "print_score(m)"
   ]
  },
  {
   "cell_type": "code",
   "execution_count": 246,
   "metadata": {},
   "outputs": [
    {
     "name": "stdout",
     "output_type": "stream",
     "text": [
      "[0.09620826175315605, 0.3500824254635219, 0.9796829575980793, 0.7811288133866605]\n"
     ]
    }
   ],
   "source": [
    "m = RandomForestRegressor(n_estimators=50, n_jobs=-1)\n",
    "m.fit(X_train, y_train)\n",
    "print_score(m)"
   ]
  },
  {
   "cell_type": "markdown",
   "metadata": {},
   "source": [
    "From the above it we can clearly see that going above n_estimators of 30 has a small marginal effect on the validation score."
   ]
  },
  {
   "cell_type": "markdown",
   "metadata": {},
   "source": [
    "### Uncorrelated Trees\n",
    "If you build 1000 trees on 10 datapoints than the predictions are going to be very different -> correlations between predictions will be small (individual trees are not generalizing very well). On the other hand, if we build 1000 trees on almost all data we will get highly correlated trees and predictions (no generalize very well)."
   ]
  },
  {
   "cell_type": "code",
   "execution_count": 267,
   "metadata": {},
   "outputs": [
    {
     "data": {
      "image/png": "[encoded data removed]",
      "text/plain": [
       "<Figure size 432x288 with 1 Axes>"
      ]
     },
     "metadata": {
      "needs_background": "light"
     },
     "output_type": "display_data"
    }
   ],
   "source": [
    "preds = []\n",
    "for i in range(1,11):\n",
    "    m = RandomForestRegressor(n_jobs=-1, max_features = i/10)\n",
    "    m.fit(X_train, y_train)\n",
    "    preds.append(m.predict(X_valid))\n",
    "\n",
    "plt.plot(np.array([*range(1,11)])/10,[metrics.r2_score(y_valid, preds[i]) for i in range(10)]);"
   ]
  },
  {
   "cell_type": "markdown",
   "metadata": {},
   "source": [
    "## Out-of-bag (OOB) score\n",
    "Is our validation set worse than our training set because we're over-fitting, or because the validation set is for a different time period, or a bit of both? With the existing information we've shown, we can't tell. However, random forests have a very clever trick called out-of-bag (OOB) error which can handle this (and more!)\n",
    "\n",
    "The idea is to calculate error on the training set, but only include the trees in the calculation of a row's error where that row was not included in training that tree. This allows us to see whether the model is over-fitting, without needing a separate validation set.\n",
    "\n",
    "This also has the benefit of allowing us to see whether our model generalizes, even if we only have a small amount of data so want to avoid separating some out to create a validation set.\n",
    "\n",
    "This is as simple as adding one more parameter to our model constructor."
   ]
  },
  {
   "cell_type": "code",
   "execution_count": 271,
   "metadata": {},
   "outputs": [
    {
     "name": "stdout",
     "output_type": "stream",
     "text": [
      "[0.09544354462005594, 0.35040071905254877, 0.9802232967908303, 0.7807306387845608, 0.8574614866733806]\n"
     ]
    }
   ],
   "source": [
    "m = RandomForestRegressor(n_estimators=40, n_jobs=-1, oob_score=True)\n",
    "m.fit(X_train, y_train)\n",
    "print_score(m)"
   ]
  },
  {
   "cell_type": "markdown",
   "metadata": {},
   "source": [
    "## Best Practice\n",
    "Do most of the models on subsets of data! Speed at the beginning is key"
   ]
  },
  {
   "cell_type": "code",
   "execution_count": 380,
   "metadata": {},
   "outputs": [
    {
     "data": {
      "text/plain": [
       "(389125, 66)"
      ]
     },
     "execution_count": 380,
     "metadata": {},
     "output_type": "execute_result"
    }
   ],
   "source": [
    "def get_sample(df,n):\n",
    "    idxs = sorted(np.random.permutation(len(df))[:n])\n",
    "    return df.iloc[idxs].copy()\n",
    "\n",
    "n_valid = 12000\n",
    "n_trn = len(df_bull)-n_valid\n",
    "\n",
    "X_train, X_valid = split_vals(df_bull.drop('SalePrice', axis = 1), n_trn)\n",
    "y_train, y_valid = split_vals(y, n_trn)\n",
    "raw_train, raw_valid = split_vals(df_bull, n_trn)\n",
    "X_train.shape"
   ]
  },
  {
   "cell_type": "markdown",
   "metadata": {},
   "source": [
    "### Ovoiding Overfitting\n",
    "1. Subsampling (above)\n",
    "2. Reduce the tree depth - min_samples_leaf = 3, not one\n",
    "3. Reduce number of features available for each tree. For example, max_features = 0.5 - less correlation the better - what if every tree uses one very imortant column, but we might imagine there are some interactions that are important. So, in addition, to choosing subset of rows, at every split point we choose a different SUBSET of columns. Every possible level of a random subset of columns!\n",
    "Trees are differnet on rows, max_features - indicates to use different columns"
   ]
  },
  {
   "cell_type": "markdown",
   "metadata": {},
   "source": [
    "def set_rf_samples(n):\n",
    "    \"\"\" Changes Scikit learn's random forests to give each tree a random sample of\n",
    "    n random rows.\n",
    "    \"\"\"\n",
    "    forest._generate_sample_indices = (lambda rs, n_samples:\n",
    "        forest.check_random_state(rs).randint(0, n_samples, n))\n",
    "\n",
    "def reset_rf_samples():\n",
    "    \"\"\" Undoes the changes produced by set_rf_samples.\n",
    "    \"\"\"\n",
    "    forest._generate_sample_indices = (lambda rs, n_samples:\n",
    "        forest.check_random_state(rs).randint(0, n_samples, n_samples))\n",
    "\n",
    "### Summary of RF hyperparameters effects\n",
    "\n",
    "set_rf_samples - rows in each tree, if rf_samples = 20000, then if tree is balanced, # of layers is log_2(20000), # of leaf nodes - 20000. decrease sample size - less final decisions - tree is less rich, less binary choices. Low - less overfitting, less accuract individual tree models. When building a bagging model - try to achive 2 things: each individual model is as accuracte as possible + across estimators - the correlation is as low as possible. So when we decrease the rf sample we decrease the power of the esimator but achive the 2nd thing: keeping the correlation low.\n",
    "\n",
    "min_samples_leaf - if set it to 2 then # of layers is log_2(20000) - 2, each time we double min_samples_leaf we subtract one layer. Leaf nodes: 10k. Each leaf has more than one thing in it = more stable average. Less depth. Result - each esimator - less predictive, but also predictors will be less correlated. \n",
    "- 1, 3, 5, 10, 25, 100\n",
    "\n",
    "max_features - at each split it will randomly pick differnt proportion of the features. We want the trees to be as rich as possible. Picking different subset of features at each decision point.\n",
    "- None\n",
    "- 0.5\n",
    "- 'sqrt'\n",
    "\n"
   ]
  },
  {
   "cell_type": "code",
   "execution_count": 377,
   "metadata": {},
   "outputs": [
    {
     "name": "stderr",
     "output_type": "stream",
     "text": [
      "/Users/nyatchen/opt/anaconda3/lib/python3.7/site-packages/sklearn/utils/deprecation.py:144: FutureWarning: The sklearn.ensemble.forest module is  deprecated in version 0.22 and will be removed in version 0.24. The corresponding classes / functions should instead be imported from sklearn.ensemble. Anything that cannot be imported from sklearn.ensemble is now part of the private API.\n",
      "  warnings.warn(message, FutureWarning)\n"
     ]
    }
   ],
   "source": [
    "from sklearn.ensemble import forest\n",
    "\n",
    "def set_rf_samples(n): \n",
    "    \"\"\" Changes Scikit learn's random forests to give each tree a random sample of n random rows. \"\"\" \n",
    "    forest._generate_sample_indices = (lambda rs, n_samples: forest.check_random_state(rs).randint(0, n_samples, n))\n",
    "\n",
    "def reset_rf_samples(): \n",
    "    \"\"\" Undoes the changes produced by set_rf_samples. \"\"\" \n",
    "    forest._generate_sample_indices = (lambda rs, n_samples: forest.check_random_state(rs).randint(0, n_samples, n_samples))"
   ]
  },
  {
   "cell_type": "markdown",
   "metadata": {},
   "source": [
    "# Confidence based on tree variance\n",
    "Let's continue using a subset of data and examine variability in predictions made by random forests."
   ]
  },
  {
   "cell_type": "code",
   "execution_count": 381,
   "metadata": {},
   "outputs": [
    {
     "name": "stdout",
     "output_type": "stream",
     "text": [
      "[0.1147321319669377, 0.22664593381562867, 0.9724890901577706, 0.9082631469794772, 0.9143130919519498]\n"
     ]
    }
   ],
   "source": [
    "set_rf_samples(50000)\n",
    "\n",
    "m_rf = RandomForestRegressor(n_estimators = 70, min_samples_leaf = 3, max_features = 0.7, n_jobs = -1, oob_score = True)\n",
    "m_rf.fit(X_train, y_train)\n",
    "print_score(m_rf)"
   ]
  },
  {
   "cell_type": "markdown",
   "metadata": {},
   "source": [
    "How do we know how confident we are in the predictions made by the model above? We know we get them by averaging predictions made by single decision trees in a forest. One simple way os to use the standard deviation of predictions, instead of the mean. This tells us the relative confidence of predictions - that is, how much variability there is amongst prediction for specific row. Higher variability means less certainty in the prediction. Let's obtain standard deviation of the preditions:"
   ]
  },
  {
   "cell_type": "code",
   "execution_count": 382,
   "metadata": {},
   "outputs": [
    {
     "data": {
      "text/plain": [
       "(9.185478288922003, 0.18298697020614066)"
      ]
     },
     "execution_count": 382,
     "metadata": {},
     "output_type": "execute_result"
    }
   ],
   "source": [
    "preds = np.stack([t.predict(X_valid) for t in m_rf.estimators_])\n",
    "(np.mean(preds[:, 0]), np.std(preds[:, 0]))"
   ]
  },
  {
   "cell_type": "markdown",
   "metadata": {},
   "source": [
    "We can see that different trees are giving different estimates this this auction. In order to see how prediction confidence varies, we can add this into our dataset."
   ]
  },
  {
   "cell_type": "code",
   "execution_count": 383,
   "metadata": {},
   "outputs": [
    {
     "data": {
      "image/png": "[encoded data removed]",
      "text/plain": [
       "<Figure size 432x288 with 1 Axes>"
      ]
     },
     "metadata": {
      "needs_background": "light"
     },
     "output_type": "display_data"
    }
   ],
   "source": [
    "raw_train, raw_valid = split_vals(df_raw, n_trn)\n",
    "\n",
    "x = raw_valid.copy()\n",
    "x['pred_std'] = np.std(preds, axis=0)\n",
    "x['pred'] = np.mean(preds, axis=0)\n",
    "x.Enclosure.value_counts().plot.barh();"
   ]
  },
  {
   "cell_type": "code",
   "execution_count": 384,
   "metadata": {},
   "outputs": [
    {
     "data": {
      "text/html": [
       "<div>\n",
       "<style scoped>\n",
       "    .dataframe tbody tr th:only-of-type {\n",
       "        vertical-align: middle;\n",
       "    }\n",
       "\n",
       "    .dataframe tbody tr th {\n",
       "        vertical-align: top;\n",
       "    }\n",
       "\n",
       "    .dataframe thead th {\n",
       "        text-align: right;\n",
       "    }\n",
       "</style>\n",
       "<table border=\"1\" class=\"dataframe\">\n",
       "  <thead>\n",
       "    <tr style=\"text-align: right;\">\n",
       "      <th></th>\n",
       "      <th>Enclosure</th>\n",
       "      <th>SalePrice</th>\n",
       "      <th>pred</th>\n",
       "      <th>pred_std</th>\n",
       "    </tr>\n",
       "  </thead>\n",
       "  <tbody>\n",
       "    <tr>\n",
       "      <th>0</th>\n",
       "      <td>EROPS</td>\n",
       "      <td>9.849178</td>\n",
       "      <td>9.839937</td>\n",
       "      <td>0.240963</td>\n",
       "    </tr>\n",
       "    <tr>\n",
       "      <th>1</th>\n",
       "      <td>EROPS AC</td>\n",
       "      <td>NaN</td>\n",
       "      <td>NaN</td>\n",
       "      <td>NaN</td>\n",
       "    </tr>\n",
       "    <tr>\n",
       "      <th>2</th>\n",
       "      <td>EROPS w AC</td>\n",
       "      <td>10.623971</td>\n",
       "      <td>10.591811</td>\n",
       "      <td>0.228173</td>\n",
       "    </tr>\n",
       "    <tr>\n",
       "      <th>3</th>\n",
       "      <td>NO ROPS</td>\n",
       "      <td>NaN</td>\n",
       "      <td>NaN</td>\n",
       "      <td>NaN</td>\n",
       "    </tr>\n",
       "    <tr>\n",
       "      <th>4</th>\n",
       "      <td>None or Unspecified</td>\n",
       "      <td>NaN</td>\n",
       "      <td>NaN</td>\n",
       "      <td>NaN</td>\n",
       "    </tr>\n",
       "    <tr>\n",
       "      <th>5</th>\n",
       "      <td>OROPS</td>\n",
       "      <td>9.682064</td>\n",
       "      <td>9.680337</td>\n",
       "      <td>0.199959</td>\n",
       "    </tr>\n",
       "  </tbody>\n",
       "</table>\n",
       "</div>"
      ],
      "text/plain": [
       "             Enclosure  SalePrice       pred  pred_std\n",
       "0                EROPS   9.849178   9.839937  0.240963\n",
       "1             EROPS AC        NaN        NaN       NaN\n",
       "2           EROPS w AC  10.623971  10.591811  0.228173\n",
       "3              NO ROPS        NaN        NaN       NaN\n",
       "4  None or Unspecified        NaN        NaN       NaN\n",
       "5                OROPS   9.682064   9.680337  0.199959"
      ]
     },
     "execution_count": 384,
     "metadata": {},
     "output_type": "execute_result"
    }
   ],
   "source": [
    "flds = ['Enclosure', 'SalePrice', 'pred', 'pred_std']\n",
    "enc_summ = x[flds].groupby('Enclosure', as_index=False).mean()\n",
    "enc_summ"
   ]
  },
  {
   "cell_type": "code",
   "execution_count": 385,
   "metadata": {},
   "outputs": [
    {
     "data": {
      "image/png": "[encoded data removed]",
      "text/plain": [
       "<Figure size 432x288 with 1 Axes>"
      ]
     },
     "metadata": {
      "needs_background": "light"
     },
     "output_type": "display_data"
    }
   ],
   "source": [
    "enc_summ = enc_summ[~pd.isnull(enc_summ.SalePrice)]\n",
    "enc_summ.plot('Enclosure', 'SalePrice', 'barh', alpha = 0.7, xlim = (0,11.5), xerr = 'pred_std');"
   ]
  },
  {
   "cell_type": "markdown",
   "metadata": {},
   "source": [
    "From the dataframe above we can clearly tell that the predictions are close, but the standard deviation is high - why is that ?"
   ]
  },
  {
   "cell_type": "markdown",
   "metadata": {},
   "source": [
    "Let's investigate our train dataset and compare its ProductSize distribution to the validation set"
   ]
  },
  {
   "cell_type": "code",
   "execution_count": 386,
   "metadata": {},
   "outputs": [
    {
     "data": {
      "image/png": "[encoded data removed]",
      "text/plain": [
       "<Figure size 432x288 with 1 Axes>"
      ]
     },
     "metadata": {
      "needs_background": "light"
     },
     "output_type": "display_data"
    }
   ],
   "source": [
    "temp = X_train.ProductSize.astype('category').map(dict( zip( raw_valid.ProductSize.cat.codes + 1, raw_valid.ProductSize ) ))\n",
    "temp.value_counts().plot.barh();"
   ]
  },
  {
   "cell_type": "code",
   "execution_count": 387,
   "metadata": {},
   "outputs": [
    {
     "data": {
      "image/png": "[encoded data removed]",
      "text/plain": [
       "<Figure size 432x288 with 1 Axes>"
      ]
     },
     "metadata": {
      "needs_background": "light"
     },
     "output_type": "display_data"
    }
   ],
   "source": [
    "raw_valid.ProductSize.value_counts().plot.barh();"
   ]
  },
  {
   "cell_type": "code",
   "execution_count": 388,
   "metadata": {},
   "outputs": [
    {
     "data": {
      "text/html": [
       "<div>\n",
       "<style scoped>\n",
       "    .dataframe tbody tr th:only-of-type {\n",
       "        vertical-align: middle;\n",
       "    }\n",
       "\n",
       "    .dataframe tbody tr th {\n",
       "        vertical-align: top;\n",
       "    }\n",
       "\n",
       "    .dataframe thead th {\n",
       "        text-align: right;\n",
       "    }\n",
       "</style>\n",
       "<table border=\"1\" class=\"dataframe\">\n",
       "  <thead>\n",
       "    <tr style=\"text-align: right;\">\n",
       "      <th></th>\n",
       "      <th>SalePrice</th>\n",
       "      <th>pred</th>\n",
       "      <th>pred_std</th>\n",
       "    </tr>\n",
       "    <tr>\n",
       "      <th>ProductSize</th>\n",
       "      <th></th>\n",
       "      <th></th>\n",
       "      <th></th>\n",
       "    </tr>\n",
       "  </thead>\n",
       "  <tbody>\n",
       "    <tr>\n",
       "      <th>Compact</th>\n",
       "      <td>9.735093</td>\n",
       "      <td>9.808980</td>\n",
       "      <td>0.280412</td>\n",
       "    </tr>\n",
       "    <tr>\n",
       "      <th>Large</th>\n",
       "      <td>10.470589</td>\n",
       "      <td>10.418249</td>\n",
       "      <td>0.321988</td>\n",
       "    </tr>\n",
       "    <tr>\n",
       "      <th>Large / Medium</th>\n",
       "      <td>10.691871</td>\n",
       "      <td>10.662690</td>\n",
       "      <td>0.265536</td>\n",
       "    </tr>\n",
       "    <tr>\n",
       "      <th>Medium</th>\n",
       "      <td>10.681511</td>\n",
       "      <td>10.628503</td>\n",
       "      <td>0.243639</td>\n",
       "    </tr>\n",
       "    <tr>\n",
       "      <th>Mini</th>\n",
       "      <td>9.535147</td>\n",
       "      <td>9.552454</td>\n",
       "      <td>0.208751</td>\n",
       "    </tr>\n",
       "    <tr>\n",
       "      <th>Small</th>\n",
       "      <td>10.324448</td>\n",
       "      <td>10.346072</td>\n",
       "      <td>0.265052</td>\n",
       "    </tr>\n",
       "  </tbody>\n",
       "</table>\n",
       "</div>"
      ],
      "text/plain": [
       "                SalePrice       pred  pred_std\n",
       "ProductSize                                   \n",
       "Compact          9.735093   9.808980  0.280412\n",
       "Large           10.470589  10.418249  0.321988\n",
       "Large / Medium  10.691871  10.662690  0.265536\n",
       "Medium          10.681511  10.628503  0.243639\n",
       "Mini             9.535147   9.552454  0.208751\n",
       "Small           10.324448  10.346072  0.265052"
      ]
     },
     "execution_count": 388,
     "metadata": {},
     "output_type": "execute_result"
    }
   ],
   "source": [
    "flds = ['ProductSize', 'SalePrice', 'pred', 'pred_std']\n",
    "summ = x[flds].groupby(flds[0]).mean()\n",
    "summ"
   ]
  },
  {
   "cell_type": "markdown",
   "metadata": {},
   "source": [
    "Comparing the 3 graphics above it makes sense that Large and Compact categories have the largest unceratinty. In the trianing set these categories are underrepresented vs what we see in the validation set."
   ]
  },
  {
   "cell_type": "markdown",
   "metadata": {},
   "source": [
    "# Feature Importance\n",
    "It's not just enough to know that a model can make accurate predictions - we also would like to know how it is making those predictions. The most straightforward way to see this is whith feature importance"
   ]
  },
  {
   "cell_type": "code",
   "execution_count": 389,
   "metadata": {},
   "outputs": [
    {
     "data": {
      "text/html": [
       "<div>\n",
       "<style scoped>\n",
       "    .dataframe tbody tr th:only-of-type {\n",
       "        vertical-align: middle;\n",
       "    }\n",
       "\n",
       "    .dataframe tbody tr th {\n",
       "        vertical-align: top;\n",
       "    }\n",
       "\n",
       "    .dataframe thead th {\n",
       "        text-align: right;\n",
       "    }\n",
       "</style>\n",
       "<table border=\"1\" class=\"dataframe\">\n",
       "  <thead>\n",
       "    <tr style=\"text-align: right;\">\n",
       "      <th></th>\n",
       "      <th>cols</th>\n",
       "      <th>imp</th>\n",
       "    </tr>\n",
       "  </thead>\n",
       "  <tbody>\n",
       "    <tr>\n",
       "      <th>5</th>\n",
       "      <td>YearMade</td>\n",
       "      <td>0.176295</td>\n",
       "    </tr>\n",
       "    <tr>\n",
       "      <th>37</th>\n",
       "      <td>Coupler_System</td>\n",
       "      <td>0.155812</td>\n",
       "    </tr>\n",
       "    <tr>\n",
       "      <th>13</th>\n",
       "      <td>ProductSize</td>\n",
       "      <td>0.104854</td>\n",
       "    </tr>\n",
       "    <tr>\n",
       "      <th>14</th>\n",
       "      <td>fiProductClassDesc</td>\n",
       "      <td>0.093501</td>\n",
       "    </tr>\n",
       "    <tr>\n",
       "      <th>2</th>\n",
       "      <td>ModelID</td>\n",
       "      <td>0.067426</td>\n",
       "    </tr>\n",
       "    <tr>\n",
       "      <th>63</th>\n",
       "      <td>saleElapsed</td>\n",
       "      <td>0.061963</td>\n",
       "    </tr>\n",
       "    <tr>\n",
       "      <th>10</th>\n",
       "      <td>fiSecondaryDesc</td>\n",
       "      <td>0.041297</td>\n",
       "    </tr>\n",
       "    <tr>\n",
       "      <th>8</th>\n",
       "      <td>fiModelDesc</td>\n",
       "      <td>0.031474</td>\n",
       "    </tr>\n",
       "    <tr>\n",
       "      <th>38</th>\n",
       "      <td>Grouser_Tracks</td>\n",
       "      <td>0.029147</td>\n",
       "    </tr>\n",
       "    <tr>\n",
       "      <th>19</th>\n",
       "      <td>Enclosure</td>\n",
       "      <td>0.029016</td>\n",
       "    </tr>\n",
       "    <tr>\n",
       "      <th>0</th>\n",
       "      <td>SalesID</td>\n",
       "      <td>0.026090</td>\n",
       "    </tr>\n",
       "    <tr>\n",
       "      <th>12</th>\n",
       "      <td>fiModelDescriptor</td>\n",
       "      <td>0.023960</td>\n",
       "    </tr>\n",
       "    <tr>\n",
       "      <th>9</th>\n",
       "      <td>fiBaseModel</td>\n",
       "      <td>0.018128</td>\n",
       "    </tr>\n",
       "    <tr>\n",
       "      <th>39</th>\n",
       "      <td>Hydraulics_Flow</td>\n",
       "      <td>0.017372</td>\n",
       "    </tr>\n",
       "    <tr>\n",
       "      <th>51</th>\n",
       "      <td>saleYear</td>\n",
       "      <td>0.015733</td>\n",
       "    </tr>\n",
       "  </tbody>\n",
       "</table>\n",
       "</div>"
      ],
      "text/plain": [
       "                  cols       imp\n",
       "5             YearMade  0.176295\n",
       "37      Coupler_System  0.155812\n",
       "13         ProductSize  0.104854\n",
       "14  fiProductClassDesc  0.093501\n",
       "2              ModelID  0.067426\n",
       "63         saleElapsed  0.061963\n",
       "10     fiSecondaryDesc  0.041297\n",
       "8          fiModelDesc  0.031474\n",
       "38      Grouser_Tracks  0.029147\n",
       "19           Enclosure  0.029016\n",
       "0              SalesID  0.026090\n",
       "12   fiModelDescriptor  0.023960\n",
       "9          fiBaseModel  0.018128\n",
       "39     Hydraulics_Flow  0.017372\n",
       "51            saleYear  0.015733"
      ]
     },
     "execution_count": 389,
     "metadata": {},
     "output_type": "execute_result"
    }
   ],
   "source": [
    "feat_imp = pd.DataFrame({'cols':X_train.columns, 'imp':m_rf.feature_importances_}\n",
    "                       ).sort_values('imp', ascending=False)\n",
    "feat_imp.head(15)"
   ]
  },
  {
   "cell_type": "code",
   "execution_count": 390,
   "metadata": {},
   "outputs": [
    {
     "data": {
      "image/png": "[encoded data removed]",
      "text/plain": [
       "<Figure size 720x432 with 1 Axes>"
      ]
     },
     "metadata": {
      "needs_background": "light"
     },
     "output_type": "display_data"
    }
   ],
   "source": [
    "feat_imp.plot('cols', 'imp', figsize=(10,6), legend = False);\n",
    "plt.xticks(rotation=20);"
   ]
  },
  {
   "cell_type": "code",
   "execution_count": 391,
   "metadata": {},
   "outputs": [
    {
     "data": {
      "image/png": "[encoded data removed]",
      "text/plain": [
       "<Figure size 720x432 with 1 Axes>"
      ]
     },
     "metadata": {
      "needs_background": "light"
     },
     "output_type": "display_data"
    }
   ],
   "source": [
    "feat_imp.iloc[:20,:].plot('cols', 'imp', 'barh', legend = False, figsize = (10,6));"
   ]
  },
  {
   "cell_type": "code",
   "execution_count": 392,
   "metadata": {},
   "outputs": [
    {
     "data": {
      "text/plain": [
       "22"
      ]
     },
     "execution_count": 392,
     "metadata": {},
     "output_type": "execute_result"
    }
   ],
   "source": [
    "to_keep = feat_imp[feat_imp.imp>0.005].cols; len(to_keep)"
   ]
  },
  {
   "cell_type": "code",
   "execution_count": 393,
   "metadata": {},
   "outputs": [],
   "source": [
    "df_keep = df_bull[to_keep].copy()\n",
    "X_train, X_valid = split_vals(df_keep, n_trn)"
   ]
  },
  {
   "cell_type": "code",
   "execution_count": 394,
   "metadata": {},
   "outputs": [
    {
     "name": "stdout",
     "output_type": "stream",
     "text": [
      "[0.11938628373449263, 0.22370025038128546, 0.9702118389359882, 0.9106322313833296, 0.9120755641994006]\n"
     ]
    }
   ],
   "source": [
    "m_rf = RandomForestRegressor(n_estimators = 70, min_samples_leaf = 3, max_features = 0.7, n_jobs = -1, oob_score = True)\n",
    "m_rf.fit(X_train, y_train)\n",
    "print_score(m_rf)"
   ]
  },
  {
   "cell_type": "code",
   "execution_count": 395,
   "metadata": {},
   "outputs": [
    {
     "data": {
      "image/png": "[encoded data removed]",
      "text/plain": [
       "<Figure size 720x432 with 1 Axes>"
      ]
     },
     "metadata": {
      "needs_background": "light"
     },
     "output_type": "display_data"
    }
   ],
   "source": [
    "feat_imp_new = pd.DataFrame({'cols':X_train.columns, 'imp':m_rf.feature_importances_}\n",
    "                       ).sort_values('imp', ascending=False)\n",
    "feat_imp_new.iloc[:20,:].plot('cols', 'imp', 'barh', legend = False, figsize = (10,6));"
   ]
  },
  {
   "cell_type": "code",
   "execution_count": null,
   "metadata": {},
   "outputs": [],
   "source": []
  }
 ],
 "metadata": {
  "kernelspec": {
   "display_name": "Python 3",
   "language": "python",
   "name": "python3"
  },
  "language_info": {
   "codemirror_mode": {
    "name": "ipython",
    "version": 3
   },
   "file_extension": ".py",
   "mimetype": "text/x-python",
   "name": "python",
   "nbconvert_exporter": "python",
   "pygments_lexer": "ipython3",
   "version": "3.7.6"
  }
 },
 "nbformat": 4,
 "nbformat_minor": 4
}
